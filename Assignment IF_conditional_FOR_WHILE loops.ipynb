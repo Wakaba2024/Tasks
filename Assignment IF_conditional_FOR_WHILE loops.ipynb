{
 "cells": [
  {
   "cell_type": "markdown",
   "id": "4451093d",
   "metadata": {},
   "source": [
    "## IF CONDITIONAL "
   ]
  },
  {
   "cell_type": "code",
   "execution_count": null,
   "id": "9649c170",
   "metadata": {},
   "outputs": [
    {
     "name": "stdout",
     "output_type": "stream",
     "text": [
      "The student has passed the exam\n"
     ]
    }
   ],
   "source": [
    "# Python program that checks if a student's grade is a pass or fail\n",
    "grade = 55\n",
    "if grade >= 55:\n",
    "    print(\"The student has passed the exam\")\n",
    "else:\n",
    "    print(\"The Student has failed the exam\")"
   ]
  },
  {
   "cell_type": "code",
   "execution_count": 6,
   "id": "811d9e95",
   "metadata": {},
   "outputs": [
    {
     "name": "stdout",
     "output_type": "stream",
     "text": [
      "The patient does not have a fever!\n"
     ]
    }
   ],
   "source": [
    "# Program that determines if a patient’s temperature indicates a fever.\n",
    "temperature = 35\n",
    "if temperature >= 37:\n",
    "    print(\"The patient has a fever!\")\n",
    "elif temperature == 35:\n",
    "    print(\"The patient does not have a fever!\")\n",
    "else:\n",
    "    print(\"The patient is not elligible for a fever check!\")"
   ]
  },
  {
   "cell_type": "code",
   "execution_count": 8,
   "id": "c7d09fec",
   "metadata": {},
   "outputs": [
    {
     "name": "stdout",
     "output_type": "stream",
     "text": [
      "Goals passed the threshold!\n"
     ]
    }
   ],
   "source": [
    "# Script to check if a player scored a goal above a threshold in a football match.\n",
    "goal_threshold = 3\n",
    "if goal_threshold >= 3:\n",
    "    print(\"Goals passed the threshold!\")\n",
    "elif goal_threshold < 2:\n",
    "    print(\"Threshold not achieved!\")\n",
    "else:\n",
    "    print(\"Player needs to work on his shooting!\")"
   ]
  },
  {
   "cell_type": "code",
   "execution_count": 10,
   "id": "14ebb6fb",
   "metadata": {},
   "outputs": [
    {
     "name": "stdout",
     "output_type": "stream",
     "text": [
      "Person can vote!\n"
     ]
    }
   ],
   "source": [
    "# Determine if a person is eligible to vote based on their age\n",
    "id_present = True\n",
    "vote_age = 32\n",
    "if vote_age >= 18 and id_present:\n",
    "    print(\"Person can vote!\")\n",
    "elif vote_age >= 18 and id_present == False:\n",
    "    print(\"Individual is elligible to vote but should first get an id!\")\n",
    "else:\n",
    "    print(\"The individual is not elligible to vote\")\n"
   ]
  },
  {
   "cell_type": "code",
   "execution_count": null,
   "id": "2938c3f6",
   "metadata": {},
   "outputs": [
    {
     "name": "stdout",
     "output_type": "stream",
     "text": [
      "Worker is not elligible for overtime!\n"
     ]
    }
   ],
   "source": [
    "# Check if a number of working hours qualifies an employee for overtime\n",
    "working_hours = 40 # Per week\n",
    "non_managerial_role = True\n",
    "if working_hours >= 50 and non_managerial_role:\n",
    "    print(\"Worker is elligible for overtime!\")\n",
    "elif working_hours >=50 and non_managerial_role == False:\n",
    "    print(\"The worker does not fulfill the threshold needed!\")\n",
    "else:\n",
    "    print(\"Worker is not elligible for overtime!\")"
   ]
  },
  {
   "cell_type": "code",
   "execution_count": 13,
   "id": "41eb3be6",
   "metadata": {},
   "outputs": [
    {
     "name": "stdout",
     "output_type": "stream",
     "text": [
      "The product should be restocked!\n"
     ]
    }
   ],
   "source": [
    "# Program that determines if a product is in stock or out of stock in an e-commerce system\n",
    "product_stock = 15\n",
    "if product_stock >= 20:\n",
    "    print(\"The item is in stock!\")\n",
    "else:\n",
    "    print(\"The product should be restocked!\")"
   ]
  },
  {
   "cell_type": "code",
   "execution_count": 17,
   "id": "bf391234",
   "metadata": {},
   "outputs": [
    {
     "name": "stdout",
     "output_type": "stream",
     "text": [
      "Suitable weather for a picnic!\n"
     ]
    }
   ],
   "source": [
    "# Program to check if the weather is suitable for a picnic based on temperature and rain probability\n",
    "temperature_picnic = 22\n",
    "rainfall_probability = False\n",
    "if temperature_picnic >= 18 and temperature_picnic<=24 and not rainfall_probability:\n",
    "    print(\"Suitable weather for a picnic!\")\n",
    "else:\n",
    "    print(\"Weather is not suitable for a picnic\")\n"
   ]
  },
  {
   "cell_type": "code",
   "execution_count": 18,
   "id": "34b79f07",
   "metadata": {},
   "outputs": [
    {
     "name": "stdout",
     "output_type": "stream",
     "text": [
      "The member should get a discount!\n"
     ]
    }
   ],
   "source": [
    "# Check if a person qualifies for a discount based on their membership level\n",
    "level = \"Full Membership\"\n",
    "if level == \"Full Membership\":\n",
    "    print(\"The member should get a discount!\")\n",
    "else:\n",
    "    print(\"The member does not qualify for a discount\")"
   ]
  },
  {
   "cell_type": "code",
   "execution_count": 34,
   "id": "a4197530",
   "metadata": {},
   "outputs": [
    {
     "name": "stdout",
     "output_type": "stream",
     "text": [
      "Student is elligible for a scholarship\n"
     ]
    }
   ],
   "source": [
    "# Script to determine if a student is eligible for a scholarship based on their GPA.\n",
    "GPA = 5.0\n",
    "if GPA >=4.0:\n",
    "    print(\"Student is elligible for a scholarship\")\n",
    "elif GPA >= 3.0 and GPA <= 3.9:\n",
    "    print(\"Sit for a remedial exam\")\n",
    "else:\n",
    "    print(\"Student is not elligible for a scholarship and a remedial exam\")\n",
    "\n"
   ]
  },
  {
   "cell_type": "code",
   "execution_count": 36,
   "id": "a7f51f60",
   "metadata": {},
   "outputs": [
    {
     "name": "stdout",
     "output_type": "stream",
     "text": [
      "There is need to refuel!\n"
     ]
    }
   ],
   "source": [
    "# Determine whether a car's fuel level is enough to reach the destination.\n",
    "fuel_level = 29\n",
    "\n",
    "if fuel_level >= 33:\n",
    "    print(\"Sufficient fuel for the journey!\")\n",
    "else:\n",
    "    print(\"There is need to refuel!\")"
   ]
  },
  {
   "cell_type": "markdown",
   "id": "4fc0969f",
   "metadata": {},
   "source": [
    "## WHILE LOOPS"
   ]
  },
  {
   "cell_type": "code",
   "execution_count": 52,
   "id": "646debea",
   "metadata": {},
   "outputs": [
    {
     "name": "stdout",
     "output_type": "stream",
     "text": [
      "Time left is 5 minutes\n",
      "Time left is 4 minutes\n",
      "Time left is 3 minutes\n",
      "Time left is 2 minutes\n",
      "Time left is 1 minutes\n",
      "Exam ended.\n"
     ]
    }
   ],
   "source": [
    "# Print the names of students in a class.\n",
    "time_left = 5\n",
    "while time_left > 0:\n",
    "    print(f\"Time left is {time_left} minutes\")\n",
    "    time_left -= 1\n",
    "print(\"Exam ended.\")\n"
   ]
  },
  {
   "cell_type": "code",
   "execution_count": 59,
   "id": "bbeafb96",
   "metadata": {},
   "outputs": [
    {
     "name": "stdout",
     "output_type": "stream",
     "text": [
      "Access granted.\n"
     ]
    }
   ],
   "source": [
    "password = \"1010J\"  # This is the correct password\n",
    "user_input = \"\"  # A placeholder for the user to input the password\n",
    "\n",
    "while user_input != password:\n",
    "    user_input = input(\"Enter your password: \")  # Request the user for password\n",
    "\n",
    "print(\"Access granted.\")  # Runs when correct password is entered\n"
   ]
  },
  {
   "cell_type": "code",
   "execution_count": 61,
   "id": "734d77c2",
   "metadata": {},
   "outputs": [
    {
     "name": "stdout",
     "output_type": "stream",
     "text": [
      "There is a heartbeat detected\n",
      "There is a heartbeat detected\n",
      "There is a heartbeat detected\n",
      "There is a heartbeat detected\n",
      "There is a heartbeat detected\n",
      "The observation is complete!\n"
     ]
    }
   ],
   "source": [
    "# Simulate a heartbeat monitor that runs while the patient is under observation.\n",
    "monitoring = True\n",
    "heart_beats = 0\n",
    "while monitoring:\n",
    "    heart_beats += 1\n",
    "    print(\"There is a heartbeat detected\")\n",
    "    if heart_beats == 5:\n",
    "        monitoring = False\n",
    "print(\"The observation is complete!\")\n",
    "\n"
   ]
  },
  {
   "cell_type": "code",
   "execution_count": 63,
   "id": "dbef4460",
   "metadata": {},
   "outputs": [
    {
     "name": "stdout",
     "output_type": "stream",
     "text": [
      "The weather is still rainy!\n",
      "The weather is still rainy!\n",
      "The weather is still rainy!\n",
      "The weather is still rainy!\n",
      "It is no longer raining!\n"
     ]
    }
   ],
   "source": [
    "# Keep checking the weather every hour until it stops raining.\n",
    "raining = True\n",
    "hour = 0\n",
    "while raining:\n",
    "    hour += 1\n",
    "    print(\"The weather is still rainy!\")\n",
    "    if hour == 4: # We assume it rains for 4 hours\n",
    "        raining = False\n",
    "print(\"It is no longer raining!\")"
   ]
  },
  {
   "cell_type": "code",
   "execution_count": 68,
   "id": "829fd831",
   "metadata": {},
   "outputs": [],
   "source": [
    "# # Track how many attempts a student takes to answer a quiz correctly.\n",
    "# correct_quiz_answer = \"50menVGorilla\"\n",
    "# tries = 0\n",
    "# answer = \"\"\n",
    "\n",
    "# while answer !=correct_quiz_answer: \n",
    "#     answer = (\"Enter the quiz answer:\")\n",
    "#     tries += 1\n",
    "# print(f\"Correct! Attempts taken: {tries}\")"
   ]
  },
  {
   "cell_type": "code",
   "execution_count": 71,
   "id": "b30b3d26",
   "metadata": {},
   "outputs": [
    {
     "name": "stdout",
     "output_type": "stream",
     "text": [
      "Correct! Attempts taken: 2\n"
     ]
    }
   ],
   "source": [
    "# Track how many attempts a student takes to answer a quiz correctly.\n",
    "correct_quiz_answer = \"50menVGorilla\"  # Correct quiz answer\n",
    "tries = 0  # Start attempt counter\n",
    "answer = \"\"  # Placeholder\n",
    "\n",
    "while answer != correct_quiz_answer:\n",
    "    answer = input(\"Enter your answer (A/B/C/D): \")  # Ask for input\n",
    "    tries += 1  # Count each attempt\n",
    "\n",
    "print(f\"Correct! Attempts taken: {tries}\")  # Display total attempts"
   ]
  },
  {
   "cell_type": "code",
   "execution_count": 72,
   "id": "16e70f5b",
   "metadata": {},
   "outputs": [
    {
     "name": "stdout",
     "output_type": "stream",
     "text": [
      "pumping pump 1\n",
      "pumping pump 2\n",
      "pumping pump 3\n",
      "pumping pump 4\n",
      "pumping pump 5\n",
      "pumping pump 6\n",
      "pumping pump 7\n",
      "pumping pump 8\n",
      "pumping pump 9\n",
      "pumping pump 10\n",
      "The Tank Is Full Now\n"
     ]
    }
   ],
   "source": [
    "# Simulate a fuel pump that keeps pumping until the tank is full.\n",
    "tank_empty = True\n",
    "pump = 0\n",
    "while tank_empty:\n",
    "    pump += 1\n",
    "    print(f\"pumping pump {pump}\")\n",
    "    if pump == 10:\n",
    "        tank_empty = False\n",
    "        print(\"The Tank Is Full Now\")"
   ]
  },
  {
   "cell_type": "code",
   "execution_count": 78,
   "id": "25ce1739",
   "metadata": {},
   "outputs": [
    {
     "name": "stdout",
     "output_type": "stream",
     "text": [
      "Negative number entered.\n"
     ]
    }
   ],
   "source": [
    "# Keep asking the user to input a number until they enter a negative one.\n",
    "number = 0  \n",
    "\n",
    "while number >= 0:\n",
    "    number = int(input(\"Enter a negative number : \"))  # Keep asking\n",
    "\n",
    "print(\"Negative number entered.\")  # Exit message\n"
   ]
  },
  {
   "cell_type": "code",
   "execution_count": 79,
   "id": "0164bf51",
   "metadata": {},
   "outputs": [
    {
     "name": "stdout",
     "output_type": "stream",
     "text": [
      "Undertaking Training Session! 1\n",
      "Undertaking Training Session! 2\n",
      "Undertaking Training Session! 3\n",
      "Undertaking Training Session! 4\n",
      "Undertaking Training Session! 5\n",
      "Undertaking Training Session! 6\n",
      "Undertaking Training Session! 7\n",
      "Undertaking Training Session! 8\n",
      "Undertaking Training Session! 9\n",
      "Undertaking Training Session! 10\n",
      "Undertaking Training Session! 11\n",
      "Undertaking Training Session! 12\n",
      "Undertaking Training Session! 13\n",
      "Undertaking Training Session! 14\n",
      "Undertaking Training Session! 15\n",
      "Player has completed the required drills!\n"
     ]
    }
   ],
   "source": [
    "# Simulate a sports training session that continues until the player completes a set number of drills.\n",
    "drills = 0\n",
    "training_session = True\n",
    "while training_session:\n",
    "    drills += 1\n",
    "    print(f\"Undertaking Training Session! {drills}\")\n",
    "    if drills == 15:\n",
    "        training_session = False\n",
    "        print(\"Player has completed the required drills!\")\n"
   ]
  },
  {
   "cell_type": "code",
   "execution_count": 83,
   "id": "da2b3481",
   "metadata": {},
   "outputs": [
    {
     "name": "stdout",
     "output_type": "stream",
     "text": [
      "Currently monitoring blood sugar levels: 10\n",
      "Currently monitoring blood sugar levels: 20\n",
      "Currently monitoring blood sugar levels: 30\n",
      "Currently monitoring blood sugar levels: 40\n",
      "Blood Sugar Levels have returned to a normal level!\n"
     ]
    }
   ],
   "source": [
    "# Monitor blood sugar levels every 10 minutes until they return to normal range.\n",
    "monitoring_sugar = True\n",
    "minute = 0\n",
    "while monitoring_sugar:\n",
    "    minute += 10\n",
    "    print(f\"Currently monitoring blood sugar levels: {minute}\")\n",
    "    if minute == 40:\n",
    "        monitoring_sugar = False\n",
    "        print(\"Blood Sugar Levels have returned to a normal level!\")"
   ]
  },
  {
   "cell_type": "code",
   "execution_count": 85,
   "id": "4d7948c7",
   "metadata": {},
   "outputs": [
    {
     "name": "stdout",
     "output_type": "stream",
     "text": [
      "Thank you for chatting with us.\n"
     ]
    }
   ],
   "source": [
    "# Loop through a customer service chatbot conversation until the user says \"exit.\"\n",
    "user_input = \"\"  \n",
    "\n",
    "while user_input != \"exit\":  # go on unless user types \"exit\"\n",
    "    user_input = input(\"Chatbot: How can I help you today? (type exit to leave): \")\n",
    "\n",
    "print(\"Thank you for chatting with us.\")  # exit message\n"
   ]
  },
  {
   "cell_type": "markdown",
   "id": "86d55804",
   "metadata": {},
   "source": [
    "## FOR LOOPS"
   ]
  },
  {
   "cell_type": "code",
   "execution_count": 89,
   "id": "fbd44be3",
   "metadata": {},
   "outputs": [
    {
     "name": "stdout",
     "output_type": "stream",
     "text": [
      "I am in class with: John\n",
      "I am in class with: 50cent\n",
      "I am in class with: Kendrick\n",
      "I am in class with: Snoop\n",
      "I am in class with: Wayne\n"
     ]
    }
   ],
   "source": [
    "# Print the names of students in a class.\n",
    "students_in_class = [\"John\", \"50cent\", \"Kendrick\", \"Snoop\", \"Wayne\"]\n",
    "for student in students_in_class:\n",
    "    print(f\"I am in class with:\", student)"
   ]
  },
  {
   "cell_type": "code",
   "execution_count": 92,
   "id": "0c0362ab",
   "metadata": {},
   "outputs": [
    {
     "name": "stdout",
     "output_type": "stream",
     "text": [
      "Above average temperatures are 27\n",
      "Above average temperatures are 29\n",
      "Above average temperatures are 26\n",
      "Above average temperatures are 30\n",
      "Above average temperatures are 32\n"
     ]
    }
   ],
   "source": [
    "# Iterate through a list of daily temperatures and print if they’re above average.\n",
    "daily_temps = [22, 18, 27, 29, 26, 19, 30, 32, 21]\n",
    "average_temp = sum(daily_temps) / len(daily_temps)\n",
    "for temp in daily_temps:\n",
    "    if temp > average_temp:\n",
    "        print(\"Above average temperatures are\", temp)\n"
   ]
  },
  {
   "cell_type": "code",
   "execution_count": 108,
   "id": "4a4e74e4",
   "metadata": {},
   "outputs": [
    {
     "name": "stdout",
     "output_type": "stream",
     "text": [
      "Bruno scored 90 goals during the three seasons\n",
      "Mainoo scored 30 goals during the three seasons\n",
      "Yoro scored 24 goals during the three seasons\n",
      "Maguire scored 30 goals during the three seasons\n",
      "Zirkzee scored 48 goals during the three seasons\n"
     ]
    }
   ],
   "source": [
    "# Loop through a list of football players and display their scores for three seasons.\n",
    "players_info = {\"Bruno\": 90, \"Mainoo\": 30, \"Yoro\": 24, \"Maguire\": 30, \"Zirkzee\": 48}\n",
    "for key, value in players_info.items():\n",
    "    print(key, \"scored\",value,\"goals during the three seasons\")"
   ]
  },
  {
   "cell_type": "code",
   "execution_count": 110,
   "id": "55a6712d",
   "metadata": {},
   "outputs": [
    {
     "name": "stdout",
     "output_type": "stream",
     "text": [
      "The patient needs to take: Panadol today after meals\n",
      "The patient needs to take: Azithromycin today after meals\n",
      "The patient needs to take: Amoxcil today after meals\n",
      "The patient needs to take: Fish_ Supplements today after meals\n"
     ]
    }
   ],
   "source": [
    "# Print the medications a patient needs to take today.\n",
    "patient_medications = [\"Panadol\", \"Azithromycin\", \"Amoxcil\", \"Fish_ Supplements\"]\n",
    "for med in patient_medications:\n",
    "    print(\"The patient needs to take:\", med, \"today after meals\")"
   ]
  },
  {
   "cell_type": "code",
   "execution_count": null,
   "id": "745c5984",
   "metadata": {},
   "outputs": [
    {
     "name": "stdout",
     "output_type": "stream",
     "text": [
      "The Total Cost = 2970\n"
     ]
    }
   ],
   "source": [
    "# Iterate through items in a shopping cart and print total price.\n",
    "shopping_cart = {\"Meat\": 650, \"Rice\": 800, \"Potatoes\": 400, \"Brocolli\": 100, \"Avocado\": 20, \"Chicken\": 1000}\n",
    "total = 0\n",
    "for key, value in shopping_cart.items():\n",
    "    total += value\n",
    "print(f\"The Total Cost = {total}\")\n"
   ]
  },
  {
   "cell_type": "code",
   "execution_count": 123,
   "id": "a8a00d1e",
   "metadata": {},
   "outputs": [
    {
     "name": "stdout",
     "output_type": "stream",
     "text": [
      "Next exercise is Warm-up\n",
      "Next exercise is Push-ups\n",
      "Next exercise is Squats\n",
      "Next exercise is Cool down and Hydrate\n"
     ]
    }
   ],
   "source": [
    "# Display each step in a fitness workout routine.\n",
    "workout_routine = [\"Warm-up\", \"Push-ups\", \"Squats\", \"Cool down and Hydrate\"]\n",
    "for step in workout_routine:\n",
    "    print(f\"Next exercise is {step}\")\n"
   ]
  },
  {
   "cell_type": "code",
   "execution_count": 126,
   "id": "9a5d7395",
   "metadata": {},
   "outputs": [
    {
     "name": "stdout",
     "output_type": "stream",
     "text": [
      "Thoroughly Revise chapter 20 before exams\n",
      "Thoroughly Revise chapter 21 before exams\n",
      "Thoroughly Revise chapter 22 before exams\n",
      "Thoroughly Revise chapter 23 before exams\n",
      "Thoroughly Revise chapter 24 before exams\n",
      "Thoroughly Revise chapter 25 before exams\n"
     ]
    }
   ],
   "source": [
    "# Print the chapters of a book a student needs to revise before exams.\n",
    "chapters = [20,21,22,23,24,25]\n",
    "for chap in chapters:\n",
    "    print(\"Thoroughly Revise chapter\", chap ,\"before exams\")"
   ]
  },
  {
   "cell_type": "code",
   "execution_count": 130,
   "id": "8c50c4de",
   "metadata": {},
   "outputs": [
    {
     "name": "stdout",
     "output_type": "stream",
     "text": [
      "Hojlund status is critical!\n",
      "Onana status is critical!\n",
      "Gabriel status is critical!\n"
     ]
    }
   ],
   "source": [
    "# Loop through patient records and print those with critical status.\n",
    "patients = {\"Hojlund\": \"Critical\", \"Onana\": \"Critical\", \"Zirkzee\": \"Stable\", \"Obi\": \"Stable\", \"Gabriel\": \"Critical\"}\n",
    "for key, value in patients.items():\n",
    "    if value == \"Critical\":\n",
    "        print(key, f\"status is critical!\")"
   ]
  },
  {
   "cell_type": "code",
   "execution_count": 131,
   "id": "504ca070",
   "metadata": {},
   "outputs": [
    {
     "name": "stdout",
     "output_type": "stream",
     "text": [
      "Crave Kenya has a 4+ star rating!\n",
      "Jiko has a 4+ star rating!\n",
      "Mythos Taverna has a 4+ star rating!\n"
     ]
    }
   ],
   "source": [
    "# Iterate through a list of restaurants and show only those with 4+ star ratings.\n",
    "restaurant_ratings = {\"Crave Kenya\": 4.9, \"Jiko\": 4.8, \"Mythos Taverna\": 4.7, \"Ailyoneats\": 3.2,\n",
    "                      \"Shapeats\": 2.9, \"Amtes\": 3.5}\n",
    "for key, value in restaurant_ratings.items():\n",
    "    if value >=4.0:\n",
    "        print(key, \"has a 4+ star rating!\")"
   ]
  },
  {
   "cell_type": "code",
   "execution_count": 135,
   "id": "12fa6c16",
   "metadata": {},
   "outputs": [
    {
     "name": "stdout",
     "output_type": "stream",
     "text": [
      "Roman Reigns is the desired candidate for the job\n"
     ]
    }
   ],
   "source": [
    "# Go through different job applications and print those that match a specific role.\n",
    "job_applications = {\"Paul Leveque\": \"Data Engineer\",\n",
    "                    \"Roman Reigns\": \"Data Scientist\",\n",
    "                    \"Seth Rollins\": \"Data Analyst\"}\n",
    "for key, value in job_applications.items():\n",
    "    if value == \"Data Scientist\":\n",
    "        print(key, \"is the desired candidate for the job\")"
   ]
  },
  {
   "cell_type": "code",
   "execution_count": null,
   "id": "622a0baa",
   "metadata": {},
   "outputs": [],
   "source": []
  }
 ],
 "metadata": {
  "kernelspec": {
   "display_name": "base",
   "language": "python",
   "name": "python3"
  },
  "language_info": {
   "codemirror_mode": {
    "name": "ipython",
    "version": 3
   },
   "file_extension": ".py",
   "mimetype": "text/x-python",
   "name": "python",
   "nbconvert_exporter": "python",
   "pygments_lexer": "ipython3",
   "version": "3.12.7"
  }
 },
 "nbformat": 4,
 "nbformat_minor": 5
}
