{
 "cells": [
  {
   "cell_type": "markdown",
   "id": "a2df3e85",
   "metadata": {},
   "source": [
    "## .format strings"
   ]
  },
  {
   "cell_type": "code",
   "execution_count": 2,
   "id": "28d85812",
   "metadata": {},
   "outputs": [
    {
     "name": "stdout",
     "output_type": "stream",
     "text": [
      "Hello John Analytics welcome to Python session.\n"
     ]
    }
   ],
   "source": [
    "My_name = \"John Analytics\"\n",
    "language = \"Python\"\n",
    "print(\"Hello {} welcome to {} session.\".format(My_name, language))"
   ]
  },
  {
   "cell_type": "code",
   "execution_count": 5,
   "id": "10f07957",
   "metadata": {},
   "outputs": [
    {
     "name": "stdout",
     "output_type": "stream",
     "text": [
      "You bought 5 apples and the total cost is 120.\n"
     ]
    }
   ],
   "source": [
    "apples = 5\n",
    "total_cost = 120\n",
    "print(\"You bought {} apples and the total cost is {}.\".format(apples,total_cost))"
   ]
  },
  {
   "cell_type": "code",
   "execution_count": 10,
   "id": "1ee8daa5",
   "metadata": {},
   "outputs": [
    {
     "name": "stdout",
     "output_type": "stream",
     "text": [
      "Your full_name is Roman Briscole!\n"
     ]
    }
   ],
   "source": [
    "first_name = \"Roman\"\n",
    "last_name = \"Briscole\"\n",
    "name = \"full_name\"\n",
    "print(\"Your {} is {} {}!\".format(name,first_name,last_name))"
   ]
  },
  {
   "cell_type": "code",
   "execution_count": 11,
   "id": "8c5ad9c5",
   "metadata": {},
   "outputs": [
    {
     "name": "stdout",
     "output_type": "stream",
     "text": [
      "Today is monday and the temperature is 23.5 celsius!\n"
     ]
    }
   ],
   "source": [
    "day = \"monday\"\n",
    "temperature = \"23.5\"\n",
    "print(\"Today is {} and the temperature is {} celsius!\".format(day, temperature))"
   ]
  },
  {
   "cell_type": "code",
   "execution_count": 13,
   "id": "82b1396b",
   "metadata": {},
   "outputs": [
    {
     "name": "stdout",
     "output_type": "stream",
     "text": [
      "Student Jane got 95% in Math test.\n"
     ]
    }
   ],
   "source": [
    "student = \"Jane\"\n",
    "grade = 95\n",
    "subject = \"Math\"\n",
    "print(\"Student {} got {}% in {} test.\".format(student, grade, subject))\n"
   ]
  },
  {
   "cell_type": "code",
   "execution_count": 14,
   "id": "13886c58",
   "metadata": {},
   "outputs": [
    {
     "name": "stdout",
     "output_type": "stream",
     "text": [
      "Original: $50, Discount: $10, Final Price: $40\n"
     ]
    }
   ],
   "source": [
    "original = 50\n",
    "discount = 10\n",
    "final = 40\n",
    "print(\"Original: ${}, Discount: ${}, Final Price: ${}\".format(original, discount, final))\n"
   ]
  },
  {
   "cell_type": "code",
   "execution_count": 15,
   "id": "ae4ab336",
   "metadata": {},
   "outputs": [
    {
     "name": "stdout",
     "output_type": "stream",
     "text": [
      "Reminder: John, you have an appointment today, John.\n"
     ]
    }
   ],
   "source": [
    "name = \"John\"\n",
    "print(\"Reminder: {}, you have an appointment today, {}.\".format(name, name))\n"
   ]
  },
  {
   "cell_type": "markdown",
   "id": "be138146",
   "metadata": {},
   "source": [
    "Boolean Function"
   ]
  },
  {
   "cell_type": "code",
   "execution_count": 17,
   "id": "25f5a08a",
   "metadata": {},
   "outputs": [
    {
     "name": "stdout",
     "output_type": "stream",
     "text": [
      "True\n",
      "False\n"
     ]
    }
   ],
   "source": [
    "def is_even(num):\n",
    "    return num % 2 == 0\n",
    "\n",
    "print(is_even(4))   \n",
    "print(is_even(7))   "
   ]
  },
  {
   "cell_type": "code",
   "execution_count": 19,
   "id": "3618f92e",
   "metadata": {},
   "outputs": [
    {
     "name": "stdout",
     "output_type": "stream",
     "text": [
      "True\n",
      "False\n"
     ]
    }
   ],
   "source": [
    "def is_positive(num):\n",
    "    return num > 0 \n",
    "print(is_positive(20))\n",
    "print(is_positive(-20))"
   ]
  },
  {
   "cell_type": "code",
   "execution_count": 23,
   "id": "03b8dc41",
   "metadata": {},
   "outputs": [
    {
     "name": "stdout",
     "output_type": "stream",
     "text": [
      "True\n",
      "False\n"
     ]
    }
   ],
   "source": [
    "def is_vowel(char):\n",
    "    return char in [\"a\",\"e\",\"i\",\"o\",\"u\"]\n",
    "print(is_vowel(\"a\"))\n",
    "print(is_vowel(\"d\"))"
   ]
  },
  {
   "cell_type": "code",
   "execution_count": 24,
   "id": "b56a65ee",
   "metadata": {},
   "outputs": [
    {
     "name": "stdout",
     "output_type": "stream",
     "text": [
      "True\n",
      "False\n",
      "True\n",
      "False\n"
     ]
    }
   ],
   "source": [
    "def can_vote(age):\n",
    "    return age >= 18\n",
    "print(can_vote(22))\n",
    "print(can_vote(12))\n",
    "print(can_vote(33))\n",
    "print(can_vote(7))"
   ]
  },
  {
   "cell_type": "code",
   "execution_count": 28,
   "id": "be8c8bd4",
   "metadata": {},
   "outputs": [
    {
     "name": "stdout",
     "output_type": "stream",
     "text": [
      "False\n",
      "True\n",
      "False\n",
      "True\n"
     ]
    }
   ],
   "source": [
    "def is_leap_year(year):\n",
    "    return year % 2 == 0\n",
    "print(is_leap_year(2017))\n",
    "print(is_leap_year(2010))\n",
    "print(is_leap_year(1885))\n",
    "print(is_leap_year(1994))"
   ]
  },
  {
   "cell_type": "code",
   "execution_count": 31,
   "id": "11cf37d1",
   "metadata": {},
   "outputs": [
    {
     "name": "stdout",
     "output_type": "stream",
     "text": [
      "True\n",
      "False\n"
     ]
    }
   ],
   "source": [
    "def is_valid_password(pwd):\n",
    "    return len(pwd) > 8\n",
    "print(is_valid_password(\"20120jdwdw\"))\n",
    "print(is_valid_password(\"jiiji9\"))"
   ]
  },
  {
   "cell_type": "code",
   "execution_count": 36,
   "id": "d3adfb43",
   "metadata": {},
   "outputs": [
    {
     "name": "stdout",
     "output_type": "stream",
     "text": [
      "False\n",
      "True\n",
      "True\n"
     ]
    }
   ],
   "source": [
    "def is_palindrome(word):\n",
    "    return word == word[:: -1]\n",
    "print(is_palindrome(\"cat\"))\n",
    "print(is_palindrome(\"madam\"))\n",
    "print(is_palindrome(\"zeez\"))"
   ]
  },
  {
   "cell_type": "markdown",
   "id": "e75a1ee5",
   "metadata": {},
   "source": [
    "All Lists"
   ]
  },
  {
   "cell_type": "code",
   "execution_count": 37,
   "id": "bdd546e8",
   "metadata": {},
   "outputs": [
    {
     "name": "stdout",
     "output_type": "stream",
     "text": [
      "['German Shepherd', 'Rotweiler', 'Bosco', 'Chiwawa', 'Bull Dog', 'Border Collie', 'Bosco']\n"
     ]
    }
   ],
   "source": [
    "dog_types = [\"German Shepherd\", \"Rotweiler\", \"Bosco\", \"Chiwawa\",\"Bull Dog\", \"Border Collie\", \"Bosco\"]\n",
    "print(dog_types)"
   ]
  },
  {
   "cell_type": "code",
   "execution_count": 41,
   "id": "85c25e83",
   "metadata": {},
   "outputs": [
    {
     "name": "stdout",
     "output_type": "stream",
     "text": [
      "Bull Dog\n",
      "Border Collie\n"
     ]
    }
   ],
   "source": [
    "# Accessing items in a list via indexing\n",
    "print(dog_types[4]) # This is positive indexing\n",
    "print(dog_types[-2]) # This is negative indexing"
   ]
  },
  {
   "cell_type": "code",
   "execution_count": 42,
   "id": "8a9ca84a",
   "metadata": {},
   "outputs": [
    {
     "name": "stdout",
     "output_type": "stream",
     "text": [
      "['German Shepherd', 'Rotweiler', 'Slovenia dog', 'Chiwawa', 'Bull Dog', 'Border Collie', 'Bosco']\n"
     ]
    }
   ],
   "source": [
    "# Changing list items\n",
    "dog_types[2] = \"Slovenia dog\"\n",
    "print(dog_types)"
   ]
  },
  {
   "cell_type": "code",
   "execution_count": null,
   "id": "d47ef131",
   "metadata": {},
   "outputs": [
    {
     "name": "stdout",
     "output_type": "stream",
     "text": [
      "['German Shepherd', 'Rotweiler', 'Slovenia dog', 'Chiwawa', 'Bull Dog', 'Border Collie', 'Bosco', 'Husky']\n"
     ]
    }
   ],
   "source": [
    "# Adding items to a list\n",
    "# Using .append()\n",
    "dog_types.append(\"Husky\")\n",
    "print(dog_types)"
   ]
  },
  {
   "cell_type": "code",
   "execution_count": null,
   "id": "42abe129",
   "metadata": {},
   "outputs": [
    {
     "data": {
      "text/plain": [
       "['German Shepherd',\n",
       " 'Rotweiler',\n",
       " 'Golden Retriever',\n",
       " 'Slovenia dog',\n",
       " 'Chiwawa',\n",
       " 'Bull Dog',\n",
       " 'Border Collie',\n",
       " 'Bosco',\n",
       " 'Husky']"
      ]
     },
     "execution_count": 47,
     "metadata": {},
     "output_type": "execute_result"
    }
   ],
   "source": [
    "# Using.insert(index,item)\n",
    "dog_types.insert(2,\"Golden Retriever\") # At index 2\n",
    "dog_types"
   ]
  },
  {
   "cell_type": "code",
   "execution_count": null,
   "id": "52fb3a60",
   "metadata": {},
   "outputs": [],
   "source": []
  }
 ],
 "metadata": {
  "kernelspec": {
   "display_name": "base",
   "language": "python",
   "name": "python3"
  },
  "language_info": {
   "codemirror_mode": {
    "name": "ipython",
    "version": 3
   },
   "file_extension": ".py",
   "mimetype": "text/x-python",
   "name": "python",
   "nbconvert_exporter": "python",
   "pygments_lexer": "ipython3",
   "version": "3.12.7"
  }
 },
 "nbformat": 4,
 "nbformat_minor": 5
}
