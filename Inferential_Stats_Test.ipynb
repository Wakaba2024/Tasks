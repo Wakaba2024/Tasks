{
 "cells": [
  {
   "cell_type": "markdown",
   "id": "2a7b6b44",
   "metadata": {},
   "source": [
    "# Inferential Statistics Test"
   ]
  },
  {
   "cell_type": "code",
   "execution_count": 2,
   "id": "2df83981",
   "metadata": {},
   "outputs": [],
   "source": [
    "import pandas as pd \n",
    "import numpy as np \n",
    "import scipy.stats as stats\n",
    "from scipy.stats import chi2_contingency # Does chi-test\n",
    "from scipy.stats import chisquare\n",
    "from scipy.stats import ttest_1samp\n",
    "from scipy.stats import f_oneway\n",
    "import statsmodels.api as sm\n",
    "from statsmodels.formula.api import ols\n",
    "from scipy.stats import norm\n",
    "from scipy.stats import ttest_rel"
   ]
  },
  {
   "cell_type": "markdown",
   "id": "347d9e48",
   "metadata": {},
   "source": [
    "> - Perform one-sample t-test\n",
    "\n",
    "Q1: Is the mean sepal length significantly different from 5.0? (Answer: p < 0.05, so yes/no) "
   ]
  },
  {
   "cell_type": "code",
   "execution_count": 3,
   "id": "d68491cc",
   "metadata": {},
   "outputs": [],
   "source": [
    "iris = pd.read_csv(r'C:\\Users\\user\\Downloads\\Iris.csv') \n",
    "\n",
    "setosa_sepal_length = iris[iris['Species'] == 'Iris-setosa']['SepalLengthCm']"
   ]
  },
  {
   "cell_type": "code",
   "execution_count": 22,
   "id": "1b5e2242",
   "metadata": {},
   "outputs": [
    {
     "data": {
      "text/html": [
       "<div>\n",
       "<style scoped>\n",
       "    .dataframe tbody tr th:only-of-type {\n",
       "        vertical-align: middle;\n",
       "    }\n",
       "\n",
       "    .dataframe tbody tr th {\n",
       "        vertical-align: top;\n",
       "    }\n",
       "\n",
       "    .dataframe thead th {\n",
       "        text-align: right;\n",
       "    }\n",
       "</style>\n",
       "<table border=\"1\" class=\"dataframe\">\n",
       "  <thead>\n",
       "    <tr style=\"text-align: right;\">\n",
       "      <th></th>\n",
       "      <th>Id</th>\n",
       "      <th>SepalLengthCm</th>\n",
       "      <th>SepalWidthCm</th>\n",
       "      <th>PetalLengthCm</th>\n",
       "      <th>PetalWidthCm</th>\n",
       "      <th>Species</th>\n",
       "    </tr>\n",
       "  </thead>\n",
       "  <tbody>\n",
       "    <tr>\n",
       "      <th>0</th>\n",
       "      <td>1</td>\n",
       "      <td>5.1</td>\n",
       "      <td>3.5</td>\n",
       "      <td>1.4</td>\n",
       "      <td>0.2</td>\n",
       "      <td>Iris-setosa</td>\n",
       "    </tr>\n",
       "    <tr>\n",
       "      <th>1</th>\n",
       "      <td>2</td>\n",
       "      <td>4.9</td>\n",
       "      <td>3.0</td>\n",
       "      <td>1.4</td>\n",
       "      <td>0.2</td>\n",
       "      <td>Iris-setosa</td>\n",
       "    </tr>\n",
       "    <tr>\n",
       "      <th>2</th>\n",
       "      <td>3</td>\n",
       "      <td>4.7</td>\n",
       "      <td>3.2</td>\n",
       "      <td>1.3</td>\n",
       "      <td>0.2</td>\n",
       "      <td>Iris-setosa</td>\n",
       "    </tr>\n",
       "    <tr>\n",
       "      <th>3</th>\n",
       "      <td>4</td>\n",
       "      <td>4.6</td>\n",
       "      <td>3.1</td>\n",
       "      <td>1.5</td>\n",
       "      <td>0.2</td>\n",
       "      <td>Iris-setosa</td>\n",
       "    </tr>\n",
       "    <tr>\n",
       "      <th>4</th>\n",
       "      <td>5</td>\n",
       "      <td>5.0</td>\n",
       "      <td>3.6</td>\n",
       "      <td>1.4</td>\n",
       "      <td>0.2</td>\n",
       "      <td>Iris-setosa</td>\n",
       "    </tr>\n",
       "  </tbody>\n",
       "</table>\n",
       "</div>"
      ],
      "text/plain": [
       "   Id  SepalLengthCm  SepalWidthCm  PetalLengthCm  PetalWidthCm      Species\n",
       "0   1            5.1           3.5            1.4           0.2  Iris-setosa\n",
       "1   2            4.9           3.0            1.4           0.2  Iris-setosa\n",
       "2   3            4.7           3.2            1.3           0.2  Iris-setosa\n",
       "3   4            4.6           3.1            1.5           0.2  Iris-setosa\n",
       "4   5            5.0           3.6            1.4           0.2  Iris-setosa"
      ]
     },
     "execution_count": 22,
     "metadata": {},
     "output_type": "execute_result"
    }
   ],
   "source": [
    "iris.head()"
   ]
  },
  {
   "cell_type": "code",
   "execution_count": 15,
   "id": "85d43383",
   "metadata": {},
   "outputs": [],
   "source": [
    "alternative_hypothesis = \"The mean length is significantly different from 5.0\"\n",
    "null_hypothesis = \"The mean length is not significantly different from 5.0\""
   ]
  },
  {
   "cell_type": "code",
   "execution_count": 80,
   "id": "5052aed7",
   "metadata": {},
   "outputs": [
    {
     "name": "stdout",
     "output_type": "stream",
     "text": [
      "T-statistic: 0.12036212238318053\n",
      "P-value: 0.9046884777690936\n",
      "Fail to reject the null hypothesis which is There is no significant difference in math scores across ethnic groups\n"
     ]
    }
   ],
   "source": [
    "sample_data = setosa_sepal_length\n",
    "population_mean = 5.0\n",
    "alpha = 0.05\n",
    "t_stat, p_value = ttest_1samp(sample_data, population_mean)\n",
    "print(f\"T-statistic: {t_stat}\")\n",
    "print(f\"P-value: {p_value}\")\n",
    "\n",
    "\n",
    "if p_value < alpha:\n",
    "    print(f'Reject the null hypothesis which is {null_hypothesis}')\n",
    "else:\n",
    "    print(f'Fail to reject the null hypothesis which is {null_hypothesis}')"
   ]
  },
  {
   "cell_type": "markdown",
   "id": "190eebd1",
   "metadata": {},
   "source": [
    "Question 2: Two-sample t-test on Iris dataset Task: Compare sepal width of Iris-setosa and Iris-versicolor. setosa_sepal_width = iris[iris['Species'] == 'Iris-setosa']['SepalWidthCm'] versicolor_sepal_width = iris[iris['Species'] == 'Iris-versicolor']['SepalWidthCm']"
   ]
  },
  {
   "cell_type": "code",
   "execution_count": 18,
   "id": "49426411",
   "metadata": {},
   "outputs": [],
   "source": [
    "setosa_sepal_width = iris[iris['Species'] == 'Iris-setosa']['SepalWidthCm'] \n",
    "versicolor_sepal_width = iris[iris['Species'] == 'Iris-versicolor']['SepalWidthCm']"
   ]
  },
  {
   "cell_type": "code",
   "execution_count": 20,
   "id": "b02b98b8",
   "metadata": {},
   "outputs": [
    {
     "name": "stdout",
     "output_type": "stream",
     "text": [
      "9.282772555558111\n",
      "4.362239016010214e-15\n",
      "The mean of setosa_sepal_width is significantly different from the mean of versicolor_sepal_width\n"
     ]
    }
   ],
   "source": [
    "t_stat, p_value = stats.ttest_ind(setosa_sepal_width, versicolor_sepal_width, equal_var = True)\n",
    "\n",
    "print(t_stat)\n",
    "print(p_value)\n",
    "\n",
    "if p_value < 0.05:\n",
    "    print('The mean of setosa_sepal_width is significantly different from the mean of versicolor_sepal_width') # Alternative hypothesis\n",
    "else:\n",
    "    print('The mean of setosa_sepal_width is not significantly different from the mean of versicolor_sepal_width') # Null hypothesis"
   ]
  },
  {
   "cell_type": "markdown",
   "id": "857ecf69",
   "metadata": {},
   "source": [
    "# Perform two-sample t-test (assume equal variances)"
   ]
  },
  {
   "cell_type": "markdown",
   "id": "2a1a4dd3",
   "metadata": {},
   "source": [
    "Q2: Are the means significantly different? (Answer: p < 0.05, so yes/no)"
   ]
  },
  {
   "cell_type": "code",
   "execution_count": 24,
   "id": "648a1319",
   "metadata": {},
   "outputs": [],
   "source": [
    "samplep_length = iris['PetalLengthCm']\n",
    "samplep_width = iris['PetalWidthCm']"
   ]
  },
  {
   "cell_type": "code",
   "execution_count": 25,
   "id": "82f82bd3",
   "metadata": {},
   "outputs": [
    {
     "name": "stdout",
     "output_type": "stream",
     "text": [
      "16.30960652586687\n",
      "3.4939777342299616e-43\n",
      "The mean of samplep_length is significantly different from the mean of samplep_width\n"
     ]
    }
   ],
   "source": [
    "t_stat, p_value = stats.ttest_ind(samplep_length, samplep_width, equal_var = True)\n",
    "\n",
    "print(t_stat)\n",
    "print(p_value)\n",
    "\n",
    "if p_value < 0.05:\n",
    "    print('The mean of samplep_length is significantly different from the mean of samplep_width') # Alternative hypothesis\n",
    "else:\n",
    "    print('The mean of samplep_length is not significantly different from the mean of samplep_width') # Null hypothesis"
   ]
  },
  {
   "cell_type": "markdown",
   "id": "931e849c",
   "metadata": {},
   "source": [
    "# One-way ANOVA "
   ]
  },
  {
   "cell_type": "markdown",
   "id": "8accc81d",
   "metadata": {},
   "source": [
    "Question 3: One-way ANOVA on Iris dataset Task: Test if petal length differs across all three Iris species."
   ]
  },
  {
   "cell_type": "code",
   "execution_count": 27,
   "id": "84296906",
   "metadata": {},
   "outputs": [
    {
     "name": "stdout",
     "output_type": "stream",
     "text": [
      "1179.0343277002194\n",
      "3.0519758018278374e-91\n",
      "Reject the null hypothesis which is There is no significant difference between the petal length across all three isis species\n"
     ]
    }
   ],
   "source": [
    "# Identify if there is any significance difference between the petal length\n",
    "\n",
    "alternative_hypothesis = 'There is a significant difference between the petal length across all three isis species'\n",
    "null_hypothesis = 'There is no significant difference between the petal length across all three isis species'\n",
    "\n",
    "# Then we get the petal length of all the three species\n",
    "\n",
    "setosa_petal = iris[iris['Species'] == 'Iris-setosa']['PetalLengthCm']\n",
    "versicolor_petal = iris[iris['Species'] == 'Iris-versicolor']['PetalLengthCm']\n",
    "virginica_petal = iris[iris['Species'] == 'Iris-virginica']['PetalLengthCm']\n",
    "\n",
    "f_stat, p_value = f_oneway(setosa_petal, versicolor_petal, virginica_petal)\n",
    "\n",
    "print(f_stat)\n",
    "print(p_value)\n",
    "\n",
    "if p_value < 0.05:\n",
    "    print(f'Reject the null hypothesis which is {null_hypothesis}')\n",
    "else:\n",
    "    print(f'We fail to reject the null hypothesis which is {null_hypothesis}')\n"
   ]
  },
  {
   "cell_type": "markdown",
   "id": "dd0750a9",
   "metadata": {},
   "source": [
    "# Perform chi-square test"
   ]
  },
  {
   "cell_type": "markdown",
   "id": "1a1d1d1a",
   "metadata": {},
   "source": [
    "Question 4: Chi-square test on Titanic dataset \n",
    "\n",
    "Task: Load the Titanic dataset and test if survival is independent of passenger class (Pclass).\n",
    "\n",
    "titanic = pd.read_csv('titanic.csv') \n",
    "\n",
    "contingency_table = pd.crosstab(titanic['Survived'], titanic['Pclass'])"
   ]
  },
  {
   "cell_type": "code",
   "execution_count": 4,
   "id": "88c7ac07",
   "metadata": {},
   "outputs": [
    {
     "data": {
      "text/html": [
       "<div>\n",
       "<style scoped>\n",
       "    .dataframe tbody tr th:only-of-type {\n",
       "        vertical-align: middle;\n",
       "    }\n",
       "\n",
       "    .dataframe tbody tr th {\n",
       "        vertical-align: top;\n",
       "    }\n",
       "\n",
       "    .dataframe thead th {\n",
       "        text-align: right;\n",
       "    }\n",
       "</style>\n",
       "<table border=\"1\" class=\"dataframe\">\n",
       "  <thead>\n",
       "    <tr style=\"text-align: right;\">\n",
       "      <th></th>\n",
       "      <th>PassengerId</th>\n",
       "      <th>Survived</th>\n",
       "      <th>Pclass</th>\n",
       "      <th>Name</th>\n",
       "      <th>Sex</th>\n",
       "      <th>Age</th>\n",
       "      <th>SibSp</th>\n",
       "      <th>Parch</th>\n",
       "      <th>Ticket</th>\n",
       "      <th>Fare</th>\n",
       "      <th>Cabin</th>\n",
       "      <th>Embarked</th>\n",
       "    </tr>\n",
       "  </thead>\n",
       "  <tbody>\n",
       "    <tr>\n",
       "      <th>0</th>\n",
       "      <td>892</td>\n",
       "      <td>0</td>\n",
       "      <td>3</td>\n",
       "      <td>Kelly, Mr. James</td>\n",
       "      <td>male</td>\n",
       "      <td>34.5</td>\n",
       "      <td>0</td>\n",
       "      <td>0</td>\n",
       "      <td>330911</td>\n",
       "      <td>7.8292</td>\n",
       "      <td>NaN</td>\n",
       "      <td>Q</td>\n",
       "    </tr>\n",
       "    <tr>\n",
       "      <th>1</th>\n",
       "      <td>893</td>\n",
       "      <td>1</td>\n",
       "      <td>3</td>\n",
       "      <td>Wilkes, Mrs. James (Ellen Needs)</td>\n",
       "      <td>female</td>\n",
       "      <td>47.0</td>\n",
       "      <td>1</td>\n",
       "      <td>0</td>\n",
       "      <td>363272</td>\n",
       "      <td>7.0000</td>\n",
       "      <td>NaN</td>\n",
       "      <td>S</td>\n",
       "    </tr>\n",
       "    <tr>\n",
       "      <th>2</th>\n",
       "      <td>894</td>\n",
       "      <td>0</td>\n",
       "      <td>2</td>\n",
       "      <td>Myles, Mr. Thomas Francis</td>\n",
       "      <td>male</td>\n",
       "      <td>62.0</td>\n",
       "      <td>0</td>\n",
       "      <td>0</td>\n",
       "      <td>240276</td>\n",
       "      <td>9.6875</td>\n",
       "      <td>NaN</td>\n",
       "      <td>Q</td>\n",
       "    </tr>\n",
       "    <tr>\n",
       "      <th>3</th>\n",
       "      <td>895</td>\n",
       "      <td>0</td>\n",
       "      <td>3</td>\n",
       "      <td>Wirz, Mr. Albert</td>\n",
       "      <td>male</td>\n",
       "      <td>27.0</td>\n",
       "      <td>0</td>\n",
       "      <td>0</td>\n",
       "      <td>315154</td>\n",
       "      <td>8.6625</td>\n",
       "      <td>NaN</td>\n",
       "      <td>S</td>\n",
       "    </tr>\n",
       "    <tr>\n",
       "      <th>4</th>\n",
       "      <td>896</td>\n",
       "      <td>1</td>\n",
       "      <td>3</td>\n",
       "      <td>Hirvonen, Mrs. Alexander (Helga E Lindqvist)</td>\n",
       "      <td>female</td>\n",
       "      <td>22.0</td>\n",
       "      <td>1</td>\n",
       "      <td>1</td>\n",
       "      <td>3101298</td>\n",
       "      <td>12.2875</td>\n",
       "      <td>NaN</td>\n",
       "      <td>S</td>\n",
       "    </tr>\n",
       "  </tbody>\n",
       "</table>\n",
       "</div>"
      ],
      "text/plain": [
       "   PassengerId  Survived  Pclass  \\\n",
       "0          892         0       3   \n",
       "1          893         1       3   \n",
       "2          894         0       2   \n",
       "3          895         0       3   \n",
       "4          896         1       3   \n",
       "\n",
       "                                           Name     Sex   Age  SibSp  Parch  \\\n",
       "0                              Kelly, Mr. James    male  34.5      0      0   \n",
       "1              Wilkes, Mrs. James (Ellen Needs)  female  47.0      1      0   \n",
       "2                     Myles, Mr. Thomas Francis    male  62.0      0      0   \n",
       "3                              Wirz, Mr. Albert    male  27.0      0      0   \n",
       "4  Hirvonen, Mrs. Alexander (Helga E Lindqvist)  female  22.0      1      1   \n",
       "\n",
       "    Ticket     Fare Cabin Embarked  \n",
       "0   330911   7.8292   NaN        Q  \n",
       "1   363272   7.0000   NaN        S  \n",
       "2   240276   9.6875   NaN        Q  \n",
       "3   315154   8.6625   NaN        S  \n",
       "4  3101298  12.2875   NaN        S  "
      ]
     },
     "execution_count": 4,
     "metadata": {},
     "output_type": "execute_result"
    }
   ],
   "source": [
    "# Task: Load the Titanic dataset and test if survival is independent of passenger class (Pclass).\n",
    "\n",
    "titanic = pd.read_csv(r'C:\\Users\\user\\Downloads\\tested.csv') \n",
    "\n",
    "# contingency_table = pd.crosstab(titanic['Survived'], titanic['Pclass'])\n",
    "\n",
    "titanic.head()"
   ]
  },
  {
   "cell_type": "code",
   "execution_count": null,
   "id": "875510f8",
   "metadata": {},
   "outputs": [
    {
     "name": "stdout",
     "output_type": "stream",
     "text": [
      "Pclass     1   2    3\n",
      "Survived             \n",
      "0         57  63  146\n",
      "1         50  30   72\n"
     ]
    }
   ],
   "source": [
    "contingency_table = pd.crosstab(titanic['Survived'], titanic['Pclass']) # Create the table\n",
    "print(contingency_table)"
   ]
  },
  {
   "cell_type": "code",
   "execution_count": null,
   "id": "b8f7a130",
   "metadata": {},
   "outputs": [
    {
     "name": "stdout",
     "output_type": "stream",
     "text": [
      "chi2: 6.693869422819262\n",
      "p: 0.03519206276590605\n",
      "degrees of freedom: 2\n",
      "expected: [[ 68.09090909  59.18181818 138.72727273]\n",
      " [ 38.90909091  33.81818182  79.27272727]]\n"
     ]
    }
   ],
   "source": [
    "chi2, p, dof, expected = chi2_contingency(contingency_table)\n",
    "print(f'chi2: {chi2}')\n",
    "print(f'p: {p}')\n",
    "print(f'degrees of freedom: {dof}')\n",
    "print(f'expected: {expected}')\n",
    "\n",
    "\n",
    "alternative_hypothesis = 'There is a direct relationship between survival and passenger class'\n",
    "null_hypothesis = 'There is no direct relationship between survival and passenger class'\n",
    "\n",
    "if p < 0.05:\n",
    "    print(f'Reject the null hypothesis which is {null_hypothesis}')\n",
    "else:\n",
    "    print(f'We fail to reject the null hypothesis which is {null_hypothesis}')"
   ]
  },
  {
   "cell_type": "markdown",
   "id": "87782879",
   "metadata": {},
   "source": [
    "# Perform one-sample z-test"
   ]
  },
  {
   "cell_type": "markdown",
   "id": "fa10736b",
   "metadata": {},
   "source": [
    "One-sample z-test on Titanic dataset Task: Test if the mean age of passengers is equal to 30 (assume population std = 14.5).\n",
    "\n",
    "Is the mean age significantly different from 30? (Answer: p < 0.05, so yes/no)"
   ]
  },
  {
   "cell_type": "code",
   "execution_count": 46,
   "id": "43ef4f4d",
   "metadata": {},
   "outputs": [],
   "source": [
    "# sd is the sigma\n",
    "\n",
    "alternative_hypothesis_6 = 'The mean age of passengers is 30'\n",
    "null_hypothesis_6 = 'The mean age of passengers is significantly different from 30'"
   ]
  },
  {
   "cell_type": "code",
   "execution_count": 48,
   "id": "8419d124",
   "metadata": {},
   "outputs": [
    {
     "data": {
      "text/html": [
       "<div>\n",
       "<style scoped>\n",
       "    .dataframe tbody tr th:only-of-type {\n",
       "        vertical-align: middle;\n",
       "    }\n",
       "\n",
       "    .dataframe tbody tr th {\n",
       "        vertical-align: top;\n",
       "    }\n",
       "\n",
       "    .dataframe thead th {\n",
       "        text-align: right;\n",
       "    }\n",
       "</style>\n",
       "<table border=\"1\" class=\"dataframe\">\n",
       "  <thead>\n",
       "    <tr style=\"text-align: right;\">\n",
       "      <th></th>\n",
       "      <th>PassengerId</th>\n",
       "      <th>Survived</th>\n",
       "      <th>Pclass</th>\n",
       "      <th>Name</th>\n",
       "      <th>Sex</th>\n",
       "      <th>Age</th>\n",
       "      <th>SibSp</th>\n",
       "      <th>Parch</th>\n",
       "      <th>Ticket</th>\n",
       "      <th>Fare</th>\n",
       "      <th>Cabin</th>\n",
       "      <th>Embarked</th>\n",
       "    </tr>\n",
       "  </thead>\n",
       "  <tbody>\n",
       "    <tr>\n",
       "      <th>0</th>\n",
       "      <td>892</td>\n",
       "      <td>0</td>\n",
       "      <td>3</td>\n",
       "      <td>Kelly, Mr. James</td>\n",
       "      <td>male</td>\n",
       "      <td>34.5</td>\n",
       "      <td>0</td>\n",
       "      <td>0</td>\n",
       "      <td>330911</td>\n",
       "      <td>7.8292</td>\n",
       "      <td>NaN</td>\n",
       "      <td>Q</td>\n",
       "    </tr>\n",
       "    <tr>\n",
       "      <th>1</th>\n",
       "      <td>893</td>\n",
       "      <td>1</td>\n",
       "      <td>3</td>\n",
       "      <td>Wilkes, Mrs. James (Ellen Needs)</td>\n",
       "      <td>female</td>\n",
       "      <td>47.0</td>\n",
       "      <td>1</td>\n",
       "      <td>0</td>\n",
       "      <td>363272</td>\n",
       "      <td>7.0000</td>\n",
       "      <td>NaN</td>\n",
       "      <td>S</td>\n",
       "    </tr>\n",
       "    <tr>\n",
       "      <th>2</th>\n",
       "      <td>894</td>\n",
       "      <td>0</td>\n",
       "      <td>2</td>\n",
       "      <td>Myles, Mr. Thomas Francis</td>\n",
       "      <td>male</td>\n",
       "      <td>62.0</td>\n",
       "      <td>0</td>\n",
       "      <td>0</td>\n",
       "      <td>240276</td>\n",
       "      <td>9.6875</td>\n",
       "      <td>NaN</td>\n",
       "      <td>Q</td>\n",
       "    </tr>\n",
       "    <tr>\n",
       "      <th>3</th>\n",
       "      <td>895</td>\n",
       "      <td>0</td>\n",
       "      <td>3</td>\n",
       "      <td>Wirz, Mr. Albert</td>\n",
       "      <td>male</td>\n",
       "      <td>27.0</td>\n",
       "      <td>0</td>\n",
       "      <td>0</td>\n",
       "      <td>315154</td>\n",
       "      <td>8.6625</td>\n",
       "      <td>NaN</td>\n",
       "      <td>S</td>\n",
       "    </tr>\n",
       "    <tr>\n",
       "      <th>4</th>\n",
       "      <td>896</td>\n",
       "      <td>1</td>\n",
       "      <td>3</td>\n",
       "      <td>Hirvonen, Mrs. Alexander (Helga E Lindqvist)</td>\n",
       "      <td>female</td>\n",
       "      <td>22.0</td>\n",
       "      <td>1</td>\n",
       "      <td>1</td>\n",
       "      <td>3101298</td>\n",
       "      <td>12.2875</td>\n",
       "      <td>NaN</td>\n",
       "      <td>S</td>\n",
       "    </tr>\n",
       "  </tbody>\n",
       "</table>\n",
       "</div>"
      ],
      "text/plain": [
       "   PassengerId  Survived  Pclass  \\\n",
       "0          892         0       3   \n",
       "1          893         1       3   \n",
       "2          894         0       2   \n",
       "3          895         0       3   \n",
       "4          896         1       3   \n",
       "\n",
       "                                           Name     Sex   Age  SibSp  Parch  \\\n",
       "0                              Kelly, Mr. James    male  34.5      0      0   \n",
       "1              Wilkes, Mrs. James (Ellen Needs)  female  47.0      1      0   \n",
       "2                     Myles, Mr. Thomas Francis    male  62.0      0      0   \n",
       "3                              Wirz, Mr. Albert    male  27.0      0      0   \n",
       "4  Hirvonen, Mrs. Alexander (Helga E Lindqvist)  female  22.0      1      1   \n",
       "\n",
       "    Ticket     Fare Cabin Embarked  \n",
       "0   330911   7.8292   NaN        Q  \n",
       "1   363272   7.0000   NaN        S  \n",
       "2   240276   9.6875   NaN        Q  \n",
       "3   315154   8.6625   NaN        S  \n",
       "4  3101298  12.2875   NaN        S  "
      ]
     },
     "execution_count": 48,
     "metadata": {},
     "output_type": "execute_result"
    }
   ],
   "source": [
    "titanic = pd.read_csv(r'C:\\Users\\user\\Downloads\\tested.csv') \n",
    "titanic.head()"
   ]
  },
  {
   "cell_type": "code",
   "execution_count": 51,
   "id": "767741fe",
   "metadata": {},
   "outputs": [
    {
     "name": "stdout",
     "output_type": "stream",
     "text": [
      "0.3425401906574815\n",
      "0.6340277982702243\n",
      "We Fail To Reject The Null Hypothesis!\n"
     ]
    }
   ],
   "source": [
    "# Get the age column\n",
    "\n",
    "ages = titanic['Age'].dropna()\n",
    "\n",
    "mu = 30 # population mean\n",
    "sigma = 14.5\n",
    "x_bar = ages.mean() # sample mean\n",
    "n = len(ages)\n",
    "alpha = 0.05\n",
    "\n",
    "\n",
    "z = (x_bar - mu)/(sigma/np.sqrt(n))\n",
    "p_value = norm.cdf(z) \n",
    "print(z)\n",
    "print(p_value)\n",
    "\n",
    "if p_value < alpha:\n",
    "    print(f'Reject The Null Hypothesis Which is: {null_hypothesis_6}!')\n",
    "else:\n",
    "    print(f'We Fail To Reject The Null Hypothesis!')"
   ]
  },
  {
   "cell_type": "markdown",
   "id": "d9c4b243",
   "metadata": {},
   "source": [
    "# Perform independent t-test"
   ]
  },
  {
   "cell_type": "markdown",
   "id": "71016fdf",
   "metadata": {},
   "source": [
    "Question 6: Independent t-test on Titanic dataset Task:\n",
    "\n",
    "Compare mean age of male vs. female passengers. \n",
    "\n",
    "male_age = titanic[titanic['Sex'] == 'male']['Age'].dropna() \n",
    "\n",
    "female_age = titanic[titanic['Sex'] == 'female']['Age'].dropna()\n",
    "\n",
    "Are the mean ages significantly different? (Answer: p < 0.05, so yes/no)"
   ]
  },
  {
   "cell_type": "code",
   "execution_count": 33,
   "id": "61da7fee",
   "metadata": {},
   "outputs": [],
   "source": [
    "male_age = titanic[titanic['Sex'] == 'male']['Age'].dropna() \n",
    "\n",
    "female_age = titanic[titanic['Sex'] == 'female']['Age'].dropna()"
   ]
  },
  {
   "cell_type": "code",
   "execution_count": 34,
   "id": "cf26b915",
   "metadata": {},
   "outputs": [
    {
     "name": "stdout",
     "output_type": "stream",
     "text": [
      "0.000230386457754343\n",
      "0.9998163174099579\n",
      "The mean ages are not significantly different across the two genders \n"
     ]
    }
   ],
   "source": [
    "t_stat, p_value = stats.ttest_ind(male_age, female_age, equal_var = True)\n",
    "\n",
    "print(t_stat)\n",
    "print(p_value)\n",
    "\n",
    "if p_value < 0.05:\n",
    "    print('The mean ages are significantly different across the two genders') # Alternative hypothesis\n",
    "else:\n",
    "    print('The mean ages are not significantly different across the two genders ') # Null hypothesis"
   ]
  },
  {
   "cell_type": "markdown",
   "id": "ec8964f7",
   "metadata": {},
   "source": [
    "# Perform one-way ANOVA"
   ]
  },
  {
   "cell_type": "markdown",
   "id": "520ea0ee",
   "metadata": {},
   "source": [
    "Question 7: One-way ANOVA on Titanic dataset Task: \n",
    " \n",
    "Test if fare differs across passenger classes (Pclass).\n",
    "\n",
    "Is there a significant difference in fare across classes? (Answer: p < 0.05, so yes/no)"
   ]
  },
  {
   "cell_type": "code",
   "execution_count": 38,
   "id": "c7419902",
   "metadata": {},
   "outputs": [],
   "source": [
    "alternative_hypothesis = 'There is a significant difference in fare across classes'\n",
    "null_hypothesis = 'There is no significant difference in fare across classes'"
   ]
  },
  {
   "cell_type": "code",
   "execution_count": 39,
   "id": "581ccf67",
   "metadata": {},
   "outputs": [
    {
     "data": {
      "text/html": [
       "<div>\n",
       "<style scoped>\n",
       "    .dataframe tbody tr th:only-of-type {\n",
       "        vertical-align: middle;\n",
       "    }\n",
       "\n",
       "    .dataframe tbody tr th {\n",
       "        vertical-align: top;\n",
       "    }\n",
       "\n",
       "    .dataframe thead th {\n",
       "        text-align: right;\n",
       "    }\n",
       "</style>\n",
       "<table border=\"1\" class=\"dataframe\">\n",
       "  <thead>\n",
       "    <tr style=\"text-align: right;\">\n",
       "      <th></th>\n",
       "      <th>PassengerId</th>\n",
       "      <th>Survived</th>\n",
       "      <th>Pclass</th>\n",
       "      <th>Name</th>\n",
       "      <th>Sex</th>\n",
       "      <th>Age</th>\n",
       "      <th>SibSp</th>\n",
       "      <th>Parch</th>\n",
       "      <th>Ticket</th>\n",
       "      <th>Fare</th>\n",
       "      <th>Cabin</th>\n",
       "      <th>Embarked</th>\n",
       "    </tr>\n",
       "  </thead>\n",
       "  <tbody>\n",
       "    <tr>\n",
       "      <th>0</th>\n",
       "      <td>892</td>\n",
       "      <td>0</td>\n",
       "      <td>3</td>\n",
       "      <td>Kelly, Mr. James</td>\n",
       "      <td>male</td>\n",
       "      <td>34.5</td>\n",
       "      <td>0</td>\n",
       "      <td>0</td>\n",
       "      <td>330911</td>\n",
       "      <td>7.8292</td>\n",
       "      <td>NaN</td>\n",
       "      <td>Q</td>\n",
       "    </tr>\n",
       "    <tr>\n",
       "      <th>1</th>\n",
       "      <td>893</td>\n",
       "      <td>1</td>\n",
       "      <td>3</td>\n",
       "      <td>Wilkes, Mrs. James (Ellen Needs)</td>\n",
       "      <td>female</td>\n",
       "      <td>47.0</td>\n",
       "      <td>1</td>\n",
       "      <td>0</td>\n",
       "      <td>363272</td>\n",
       "      <td>7.0000</td>\n",
       "      <td>NaN</td>\n",
       "      <td>S</td>\n",
       "    </tr>\n",
       "    <tr>\n",
       "      <th>2</th>\n",
       "      <td>894</td>\n",
       "      <td>0</td>\n",
       "      <td>2</td>\n",
       "      <td>Myles, Mr. Thomas Francis</td>\n",
       "      <td>male</td>\n",
       "      <td>62.0</td>\n",
       "      <td>0</td>\n",
       "      <td>0</td>\n",
       "      <td>240276</td>\n",
       "      <td>9.6875</td>\n",
       "      <td>NaN</td>\n",
       "      <td>Q</td>\n",
       "    </tr>\n",
       "    <tr>\n",
       "      <th>3</th>\n",
       "      <td>895</td>\n",
       "      <td>0</td>\n",
       "      <td>3</td>\n",
       "      <td>Wirz, Mr. Albert</td>\n",
       "      <td>male</td>\n",
       "      <td>27.0</td>\n",
       "      <td>0</td>\n",
       "      <td>0</td>\n",
       "      <td>315154</td>\n",
       "      <td>8.6625</td>\n",
       "      <td>NaN</td>\n",
       "      <td>S</td>\n",
       "    </tr>\n",
       "    <tr>\n",
       "      <th>4</th>\n",
       "      <td>896</td>\n",
       "      <td>1</td>\n",
       "      <td>3</td>\n",
       "      <td>Hirvonen, Mrs. Alexander (Helga E Lindqvist)</td>\n",
       "      <td>female</td>\n",
       "      <td>22.0</td>\n",
       "      <td>1</td>\n",
       "      <td>1</td>\n",
       "      <td>3101298</td>\n",
       "      <td>12.2875</td>\n",
       "      <td>NaN</td>\n",
       "      <td>S</td>\n",
       "    </tr>\n",
       "  </tbody>\n",
       "</table>\n",
       "</div>"
      ],
      "text/plain": [
       "   PassengerId  Survived  Pclass  \\\n",
       "0          892         0       3   \n",
       "1          893         1       3   \n",
       "2          894         0       2   \n",
       "3          895         0       3   \n",
       "4          896         1       3   \n",
       "\n",
       "                                           Name     Sex   Age  SibSp  Parch  \\\n",
       "0                              Kelly, Mr. James    male  34.5      0      0   \n",
       "1              Wilkes, Mrs. James (Ellen Needs)  female  47.0      1      0   \n",
       "2                     Myles, Mr. Thomas Francis    male  62.0      0      0   \n",
       "3                              Wirz, Mr. Albert    male  27.0      0      0   \n",
       "4  Hirvonen, Mrs. Alexander (Helga E Lindqvist)  female  22.0      1      1   \n",
       "\n",
       "    Ticket     Fare Cabin Embarked  \n",
       "0   330911   7.8292   NaN        Q  \n",
       "1   363272   7.0000   NaN        S  \n",
       "2   240276   9.6875   NaN        Q  \n",
       "3   315154   8.6625   NaN        S  \n",
       "4  3101298  12.2875   NaN        S  "
      ]
     },
     "execution_count": 39,
     "metadata": {},
     "output_type": "execute_result"
    }
   ],
   "source": [
    "titanic.head()"
   ]
  },
  {
   "cell_type": "code",
   "execution_count": 40,
   "id": "11601874",
   "metadata": {},
   "outputs": [
    {
     "name": "stdout",
     "output_type": "stream",
     "text": [
      "129.89190776865905\n",
      "1.641767321164957e-44\n",
      "Reject the null hypothesis which is There is no significant difference in fare across classes\n"
     ]
    }
   ],
   "source": [
    "class_one = titanic[(titanic['Pclass'] == 1) & (titanic['Fare'].notna())]['Fare']\n",
    "class_two = titanic[(titanic['Pclass'] == 2) & (titanic['Fare'].notna())]['Fare']\n",
    "class_three = titanic[(titanic['Pclass'] == 3) & (titanic['Fare'].notna())]['Fare']\n",
    "\n",
    "\n",
    "f_stat, p_value = f_oneway(class_one, class_two, class_three)\n",
    "\n",
    "print(f_stat)\n",
    "print(p_value)\n",
    "\n",
    "if p_value < 0.05:\n",
    "    print(f'Reject the null hypothesis which is {null_hypothesis}')\n",
    "else:\n",
    "    print(f'We fail to reject the null hypothesis which is {null_hypothesis}')"
   ]
  },
  {
   "cell_type": "markdown",
   "id": "870a6346",
   "metadata": {},
   "source": [
    "# Fill in: Perform chi-square test"
   ]
  },
  {
   "cell_type": "markdown",
   "id": "de412bbc",
   "metadata": {},
   "source": [
    "Question 8: Chi-square test on Titanic dataset Task: \n",
    "\n",
    "Test if survival is independent of sex. contingency_table = pd.crosstab(titanic['Survived'], titanic['Sex'])\n",
    "\n",
    "Is survival independent of sex? (Answer: p < 0.05, so yes/no)"
   ]
  },
  {
   "cell_type": "code",
   "execution_count": 36,
   "id": "26e6f7ab",
   "metadata": {},
   "outputs": [
    {
     "name": "stdout",
     "output_type": "stream",
     "text": [
      "Sex       female  male\n",
      "Survived              \n",
      "0              0   266\n",
      "1            152     0\n"
     ]
    }
   ],
   "source": [
    "contingency_table = pd.crosstab(titanic['Survived'], titanic['Sex']) # Create the table\n",
    "\n",
    "print(contingency_table)"
   ]
  },
  {
   "cell_type": "code",
   "execution_count": 37,
   "id": "b16e423d",
   "metadata": {},
   "outputs": [
    {
     "name": "stdout",
     "output_type": "stream",
     "text": [
      "chi2: 413.6897405343716\n",
      "p: 5.767311139789629e-92\n",
      "degrees of freedom: 1\n",
      "expected: [[ 96.72727273 169.27272727]\n",
      " [ 55.27272727  96.72727273]]\n",
      "Reject the null hypothesis which is There is no significant difference in fare across classes\n"
     ]
    }
   ],
   "source": [
    "chi2, p, dof, expected = chi2_contingency(contingency_table)\n",
    "print(f'chi2: {chi2}')\n",
    "print(f'p: {p}')\n",
    "print(f'degrees of freedom: {dof}')\n",
    "print(f'expected: {expected}')\n",
    "\n",
    "\n",
    "alternative_hypothesis = 'There is a significant difference in fare across classes'\n",
    "null_hypothesis = 'There is no significant difference in fare across classes'\n",
    "\n",
    "if p < 0.05:\n",
    "    print(f'Reject the null hypothesis which is {null_hypothesis}')\n",
    "else:\n",
    "    print(f'We fail to reject the null hypothesis which is {null_hypothesis}')"
   ]
  },
  {
   "cell_type": "markdown",
   "id": "1aab77d3",
   "metadata": {},
   "source": [
    "# Perform paired t-test"
   ]
  },
  {
   "cell_type": "markdown",
   "id": "3ba4b458",
   "metadata": {},
   "source": [
    "Question 9: Paired t-test on Student Performance dataset Task: \n",
    "\n",
    "Load the Student Performance dataset and test if math score and reading score differ for the same students. \n",
    "\n",
    "students = pd.read_csv('StudentsPerformance.csv')\n",
    "\n",
    "Are math and reading scores significantly different? (Answer: p < 0.05, so yes/no)"
   ]
  },
  {
   "cell_type": "code",
   "execution_count": 102,
   "id": "a530ed8f",
   "metadata": {},
   "outputs": [],
   "source": [
    "Alternative_hypothesis = 'The mean scores are significantly different'\n",
    "\n",
    "Null_hypothesis = 'The mean scores are not significantly different'"
   ]
  },
  {
   "cell_type": "code",
   "execution_count": 103,
   "id": "8f20e9ad",
   "metadata": {},
   "outputs": [
    {
     "name": "stdout",
     "output_type": "stream",
     "text": [
      "10.816230631665421\n",
      "7.322335900414138e-26\n",
      "Reject The Null Hypothesis Which is: The mean scores are not significantly different!\n"
     ]
    }
   ],
   "source": [
    "# Extract the two score columns\n",
    "reading = students['reading score']\n",
    "maths = students['math score']\n",
    "\n",
    "t_stat, p_value = ttest_rel(reading, maths)\n",
    "\n",
    "print(t_stat)\n",
    "print(p_value)\n",
    "\n",
    "alpha = 0.05\n",
    "if p_value < alpha:\n",
    "    print(f'Reject The Null Hypothesis Which is: {Null_hypothesis}!')\n",
    "else:\n",
    "    print(f'We Fail To Reject The Null Hypothesis!')"
   ]
  },
  {
   "cell_type": "markdown",
   "id": "6cbe47a8",
   "metadata": {},
   "source": [
    "# Perform one-sample z-test"
   ]
  },
  {
   "cell_type": "markdown",
   "id": "30d2ce12",
   "metadata": {},
   "source": [
    "Question 10: One-sample z-test on Student Performance dataset Task: \n",
    "\n",
    "Test if the mean writing score is equal to 70 (assume population std = 15).\n",
    "\n",
    "Is the mean writing score significantly different from 70? (Answer: p < 0.05, so yes/no) "
   ]
  },
  {
   "cell_type": "code",
   "execution_count": 5,
   "id": "7a49e321",
   "metadata": {},
   "outputs": [
    {
     "data": {
      "text/html": [
       "<div>\n",
       "<style scoped>\n",
       "    .dataframe tbody tr th:only-of-type {\n",
       "        vertical-align: middle;\n",
       "    }\n",
       "\n",
       "    .dataframe tbody tr th {\n",
       "        vertical-align: top;\n",
       "    }\n",
       "\n",
       "    .dataframe thead th {\n",
       "        text-align: right;\n",
       "    }\n",
       "</style>\n",
       "<table border=\"1\" class=\"dataframe\">\n",
       "  <thead>\n",
       "    <tr style=\"text-align: right;\">\n",
       "      <th></th>\n",
       "      <th>gender</th>\n",
       "      <th>race/ethnicity</th>\n",
       "      <th>parental level of education</th>\n",
       "      <th>lunch</th>\n",
       "      <th>test preparation course</th>\n",
       "      <th>math score</th>\n",
       "      <th>reading score</th>\n",
       "      <th>writing score</th>\n",
       "    </tr>\n",
       "  </thead>\n",
       "  <tbody>\n",
       "    <tr>\n",
       "      <th>0</th>\n",
       "      <td>female</td>\n",
       "      <td>group B</td>\n",
       "      <td>bachelor's degree</td>\n",
       "      <td>standard</td>\n",
       "      <td>none</td>\n",
       "      <td>72</td>\n",
       "      <td>72</td>\n",
       "      <td>74</td>\n",
       "    </tr>\n",
       "    <tr>\n",
       "      <th>1</th>\n",
       "      <td>female</td>\n",
       "      <td>group C</td>\n",
       "      <td>some college</td>\n",
       "      <td>standard</td>\n",
       "      <td>completed</td>\n",
       "      <td>69</td>\n",
       "      <td>90</td>\n",
       "      <td>88</td>\n",
       "    </tr>\n",
       "    <tr>\n",
       "      <th>2</th>\n",
       "      <td>female</td>\n",
       "      <td>group B</td>\n",
       "      <td>master's degree</td>\n",
       "      <td>standard</td>\n",
       "      <td>none</td>\n",
       "      <td>90</td>\n",
       "      <td>95</td>\n",
       "      <td>93</td>\n",
       "    </tr>\n",
       "    <tr>\n",
       "      <th>3</th>\n",
       "      <td>male</td>\n",
       "      <td>group A</td>\n",
       "      <td>associate's degree</td>\n",
       "      <td>free/reduced</td>\n",
       "      <td>none</td>\n",
       "      <td>47</td>\n",
       "      <td>57</td>\n",
       "      <td>44</td>\n",
       "    </tr>\n",
       "    <tr>\n",
       "      <th>4</th>\n",
       "      <td>male</td>\n",
       "      <td>group C</td>\n",
       "      <td>some college</td>\n",
       "      <td>standard</td>\n",
       "      <td>none</td>\n",
       "      <td>76</td>\n",
       "      <td>78</td>\n",
       "      <td>75</td>\n",
       "    </tr>\n",
       "  </tbody>\n",
       "</table>\n",
       "</div>"
      ],
      "text/plain": [
       "   gender race/ethnicity parental level of education         lunch  \\\n",
       "0  female        group B           bachelor's degree      standard   \n",
       "1  female        group C                some college      standard   \n",
       "2  female        group B             master's degree      standard   \n",
       "3    male        group A          associate's degree  free/reduced   \n",
       "4    male        group C                some college      standard   \n",
       "\n",
       "  test preparation course  math score  reading score  writing score  \n",
       "0                    none          72             72             74  \n",
       "1               completed          69             90             88  \n",
       "2                    none          90             95             93  \n",
       "3                    none          47             57             44  \n",
       "4                    none          76             78             75  "
      ]
     },
     "execution_count": 5,
     "metadata": {},
     "output_type": "execute_result"
    }
   ],
   "source": [
    "students = pd.read_csv(r'C:\\Users\\user\\Downloads\\StudentsPerformance (1).csv')\n",
    "students.head()"
   ]
  },
  {
   "cell_type": "code",
   "execution_count": 58,
   "id": "9bd228a3",
   "metadata": {},
   "outputs": [],
   "source": [
    "alternative_hypothesis = \"The mean writing score is equal to 70\"\n",
    "null_hypothesis = 'The mean writing score is different from 70'"
   ]
  },
  {
   "cell_type": "code",
   "execution_count": 59,
   "id": "732a3c7a",
   "metadata": {},
   "outputs": [
    {
     "name": "stdout",
     "output_type": "stream",
     "text": [
      "-4.1025282177917735\n",
      "2.0432999838460062e-05\n",
      "Reject The Null Hypothesis Which is: The mean writing score is different from 70!\n"
     ]
    }
   ],
   "source": [
    "writing_scores = students['writing score'].dropna()\n",
    "\n",
    "mu = 70 # population mean\n",
    "sigma = 15\n",
    "x_bar = writing_scores.mean() # sample mean\n",
    "n = len(writing_scores)\n",
    "alpha = 0.05\n",
    "\n",
    "\n",
    "z = (x_bar - mu)/(sigma/np.sqrt(n))\n",
    "p_value = norm.cdf(z) \n",
    "print(z)\n",
    "print(p_value)\n",
    "\n",
    "if p_value < alpha:\n",
    "    print(f'Reject The Null Hypothesis Which is: {null_hypothesis}!')\n",
    "else:\n",
    "    print(f'We Fail To Reject The Null Hypothesis!')"
   ]
  },
  {
   "cell_type": "markdown",
   "id": "83443180",
   "metadata": {},
   "source": [
    "# Perform two-sample t-test"
   ]
  },
  {
   "cell_type": "markdown",
   "id": "33e32c94",
   "metadata": {},
   "source": [
    "Question 11: Two-sample t-test on Student Performance dataset\n",
    "\n",
    "Task: Compare math scores of male vs. female students. \n",
    "\n",
    "male_math = students[students['gender'] == 'male']['math score'] \n",
    "\n",
    "female_math = students[students['gender'] == 'female']['math score']\n",
    "\n",
    "Are math scores significantly different between genders? (Answer: p < 0.05, so yes/no)"
   ]
  },
  {
   "cell_type": "code",
   "execution_count": 61,
   "id": "dc2b5ab3",
   "metadata": {},
   "outputs": [
    {
     "name": "stdout",
     "output_type": "stream",
     "text": [
      "5.383245869828983\n",
      "9.120185549328822e-08\n",
      "The math scores are significantly different between genders\n"
     ]
    }
   ],
   "source": [
    "male_math = students[students['gender'] == 'male']['math score'] \n",
    "\n",
    "female_math = students[students['gender'] == 'female']['math score']\n",
    "\n",
    "t_stat, p_value = stats.ttest_ind(male_math, female_math, equal_var = True)\n",
    "\n",
    "print(t_stat)\n",
    "print(p_value)\n",
    "\n",
    "if p_value < 0.05:\n",
    "    print('The math scores are significantly different between genders') # Alternative hypothesis\n",
    "else:\n",
    "    print('The math scores are not significantly different between genders') # Null hypothesis"
   ]
  },
  {
   "cell_type": "markdown",
   "id": "83ce854a",
   "metadata": {},
   "source": [
    "# Perform one-way ANOVA"
   ]
  },
  {
   "cell_type": "markdown",
   "id": "ec64efc2",
   "metadata": {},
   "source": [
    "Question 12: One-way ANOVA on Student Performance dataset \n",
    "\n",
    "Task: Test if math scores differ across ethnic groups (race/ethnicity).\n",
    "\n",
    "Is there a significant difference in math scores across ethnic groups? (Answer: p < 0.05, so yes/no)"
   ]
  },
  {
   "cell_type": "code",
   "execution_count": 62,
   "id": "91a0dc22",
   "metadata": {},
   "outputs": [
    {
     "data": {
      "text/html": [
       "<div>\n",
       "<style scoped>\n",
       "    .dataframe tbody tr th:only-of-type {\n",
       "        vertical-align: middle;\n",
       "    }\n",
       "\n",
       "    .dataframe tbody tr th {\n",
       "        vertical-align: top;\n",
       "    }\n",
       "\n",
       "    .dataframe thead th {\n",
       "        text-align: right;\n",
       "    }\n",
       "</style>\n",
       "<table border=\"1\" class=\"dataframe\">\n",
       "  <thead>\n",
       "    <tr style=\"text-align: right;\">\n",
       "      <th></th>\n",
       "      <th>gender</th>\n",
       "      <th>race/ethnicity</th>\n",
       "      <th>parental level of education</th>\n",
       "      <th>lunch</th>\n",
       "      <th>test preparation course</th>\n",
       "      <th>math score</th>\n",
       "      <th>reading score</th>\n",
       "      <th>writing score</th>\n",
       "    </tr>\n",
       "  </thead>\n",
       "  <tbody>\n",
       "    <tr>\n",
       "      <th>0</th>\n",
       "      <td>female</td>\n",
       "      <td>group B</td>\n",
       "      <td>bachelor's degree</td>\n",
       "      <td>standard</td>\n",
       "      <td>none</td>\n",
       "      <td>72</td>\n",
       "      <td>72</td>\n",
       "      <td>74</td>\n",
       "    </tr>\n",
       "    <tr>\n",
       "      <th>1</th>\n",
       "      <td>female</td>\n",
       "      <td>group C</td>\n",
       "      <td>some college</td>\n",
       "      <td>standard</td>\n",
       "      <td>completed</td>\n",
       "      <td>69</td>\n",
       "      <td>90</td>\n",
       "      <td>88</td>\n",
       "    </tr>\n",
       "    <tr>\n",
       "      <th>2</th>\n",
       "      <td>female</td>\n",
       "      <td>group B</td>\n",
       "      <td>master's degree</td>\n",
       "      <td>standard</td>\n",
       "      <td>none</td>\n",
       "      <td>90</td>\n",
       "      <td>95</td>\n",
       "      <td>93</td>\n",
       "    </tr>\n",
       "    <tr>\n",
       "      <th>3</th>\n",
       "      <td>male</td>\n",
       "      <td>group A</td>\n",
       "      <td>associate's degree</td>\n",
       "      <td>free/reduced</td>\n",
       "      <td>none</td>\n",
       "      <td>47</td>\n",
       "      <td>57</td>\n",
       "      <td>44</td>\n",
       "    </tr>\n",
       "    <tr>\n",
       "      <th>4</th>\n",
       "      <td>male</td>\n",
       "      <td>group C</td>\n",
       "      <td>some college</td>\n",
       "      <td>standard</td>\n",
       "      <td>none</td>\n",
       "      <td>76</td>\n",
       "      <td>78</td>\n",
       "      <td>75</td>\n",
       "    </tr>\n",
       "  </tbody>\n",
       "</table>\n",
       "</div>"
      ],
      "text/plain": [
       "   gender race/ethnicity parental level of education         lunch  \\\n",
       "0  female        group B           bachelor's degree      standard   \n",
       "1  female        group C                some college      standard   \n",
       "2  female        group B             master's degree      standard   \n",
       "3    male        group A          associate's degree  free/reduced   \n",
       "4    male        group C                some college      standard   \n",
       "\n",
       "  test preparation course  math score  reading score  writing score  \n",
       "0                    none          72             72             74  \n",
       "1               completed          69             90             88  \n",
       "2                    none          90             95             93  \n",
       "3                    none          47             57             44  \n",
       "4                    none          76             78             75  "
      ]
     },
     "execution_count": 62,
     "metadata": {},
     "output_type": "execute_result"
    }
   ],
   "source": [
    "students.head()"
   ]
  },
  {
   "cell_type": "code",
   "execution_count": 41,
   "id": "695b461e",
   "metadata": {},
   "outputs": [
    {
     "data": {
      "text/plain": [
       "array(['group B', 'group C', 'group A', 'group D', 'group E'],\n",
       "      dtype=object)"
      ]
     },
     "execution_count": 41,
     "metadata": {},
     "output_type": "execute_result"
    }
   ],
   "source": [
    "students['race/ethnicity'].unique()"
   ]
  },
  {
   "cell_type": "code",
   "execution_count": 42,
   "id": "ff67fbad",
   "metadata": {},
   "outputs": [],
   "source": [
    "alternative_hypothesis = 'There a significant difference in math scores across ethnic groups '\n",
    "null_hypothesis = 'There is no significant difference in math scores across ethnic groups'"
   ]
  },
  {
   "cell_type": "code",
   "execution_count": 43,
   "id": "8dc94e73",
   "metadata": {},
   "outputs": [
    {
     "name": "stdout",
     "output_type": "stream",
     "text": [
      "14.593885166332635\n",
      "1.3732194030370688e-11\n",
      "Reject the null hypothesis which is There is no significant difference in math scores across ethnic groups\n"
     ]
    }
   ],
   "source": [
    "groupA_math= students[(students['race/ethnicity'] == 'group A') & (students['math score'].notna())]['math score']\n",
    "groupB_math = students[(students['race/ethnicity'] == 'group B') & (students['math score'].notna())]['math score']\n",
    "groupC_math = students[(students['race/ethnicity'] == 'group C') & (students['math score'].notna())]['math score']\n",
    "groupD_math = students[(students['race/ethnicity'] == 'group D') & (students['math score'].notna())]['math score']\n",
    "groupE_math = students[(students['race/ethnicity'] == 'group E') & (students['math score'].notna())]['math score']\n",
    "\n",
    "\n",
    "f_stat, p_value = f_oneway(groupA_math, groupB_math, groupC_math, groupD_math,groupE_math )\n",
    "\n",
    "print(f_stat)\n",
    "print(p_value)\n",
    "\n",
    "if p_value < 0.05:\n",
    "    print(f'Reject the null hypothesis which is {null_hypothesis}')\n",
    "else:\n",
    "    print(f'We fail to reject the null hypothesis which is {null_hypothesis}')"
   ]
  },
  {
   "cell_type": "markdown",
   "id": "c02463be",
   "metadata": {},
   "source": [
    "# Perform chi-square test"
   ]
  },
  {
   "cell_type": "markdown",
   "id": "b218c788",
   "metadata": {},
   "source": [
    "Chi-square test on Student Performance dataset Task:\n",
    "\n",
    "Test if gender is independent of test preparation course completion. \n",
    "\n",
    "contingency_table = pd.crosstab(students['gender'], students['test preparation course'])"
   ]
  },
  {
   "cell_type": "code",
   "execution_count": 76,
   "id": "3b530478",
   "metadata": {},
   "outputs": [
    {
     "name": "stdout",
     "output_type": "stream",
     "text": [
      "test preparation course  completed  none\n",
      "gender                                  \n",
      "female                         184   334\n",
      "male                           174   308\n"
     ]
    }
   ],
   "source": [
    "contingency_table = pd.crosstab(students['gender'], students['test preparation course']) # Create the table\n",
    "print(contingency_table)"
   ]
  },
  {
   "cell_type": "code",
   "execution_count": 77,
   "id": "8d6da1b1",
   "metadata": {},
   "outputs": [
    {
     "name": "stdout",
     "output_type": "stream",
     "text": [
      "chi2: 0.015529201882465888\n",
      "p: 0.9008273880804724\n",
      "degrees of freedom: 1\n",
      "expected: [[185.444 332.556]\n",
      " [172.556 309.444]]\n",
      "We fail to reject the null hypothesis which is There is no significant difference in math scores across ethnic groups\n"
     ]
    }
   ],
   "source": [
    "chi2, p, dof, expected = chi2_contingency(contingency_table)\n",
    "print(f'chi2: {chi2}')\n",
    "print(f'p: {p}')\n",
    "print(f'degrees of freedom: {dof}')\n",
    "print(f'expected: {expected}')\n",
    "\n",
    "\n",
    "alternative_hypothesis = 'There is a significant difference in math scores across ethnic groups'\n",
    "null_hypothesis = 'There is no significant difference in math scores across ethnic groups'\n",
    "\n",
    "if p < 0.05:\n",
    "    print(f'Reject the null hypothesis which is {null_hypothesis}')\n",
    "else:\n",
    "    print(f'We fail to reject the null hypothesis which is {null_hypothesis}')"
   ]
  },
  {
   "cell_type": "markdown",
   "id": "1153562d",
   "metadata": {},
   "source": [
    "# Perform one-sample t-test"
   ]
  },
  {
   "cell_type": "markdown",
   "id": "0585fcf0",
   "metadata": {},
   "source": [
    "One-sample t-test on Iris dataset Task: \n",
    "\n",
    "Test if the mean petal width of Iris-virginica is equal to 2.0. virginica_petal_width = iris[iris['Species'] == 'Iris-virginica']['PetalWidthCm']\n",
    "\n",
    "Is the mean petal width significantly different from 2.0? (Answer: p < 0.05, so yes/no)"
   ]
  },
  {
   "cell_type": "code",
   "execution_count": null,
   "id": "3ab848e3",
   "metadata": {},
   "outputs": [],
   "source": [
    "alternative_hypothesis = 'The mean petal width is equal to 2.0'\n",
    "null_hypothesis = 'The mean petal width is different from 2.0'\n",
    "\n",
    "virginica_petal_width = iris[iris['Species'] == 'Iris-virginica']['PetalWidthCm']"
   ]
  },
  {
   "cell_type": "code",
   "execution_count": 81,
   "id": "25c78049",
   "metadata": {},
   "outputs": [
    {
     "name": "stdout",
     "output_type": "stream",
     "text": [
      "T-statistic: 0.6693891347748897\n",
      "P-value: 0.5063892967407193\n",
      "Fail to reject the null hypothesis which is There is no significant difference in math scores across ethnic groups\n"
     ]
    }
   ],
   "source": [
    "sample_data = virginica_petal_width\n",
    "population_mean = 2.0\n",
    "alpha = 0.05\n",
    "t_stat, p_value = ttest_1samp(sample_data, population_mean)\n",
    "print(f\"T-statistic: {t_stat}\")\n",
    "print(f\"P-value: {p_value}\")\n",
    "\n",
    "\n",
    "if p_value < alpha:\n",
    "    print(f'Reject the null hypothesis which is {null_hypothesis}')\n",
    "else:\n",
    "    print(f'Fail to reject the null hypothesis which is {null_hypothesis}')"
   ]
  },
  {
   "cell_type": "markdown",
   "id": "29af786a",
   "metadata": {},
   "source": [
    "# Perform two-sample t-test (assume unequal variances)"
   ]
  },
  {
   "cell_type": "markdown",
   "id": "fbb016d5",
   "metadata": {},
   "source": [
    "Question 15: Two-sample t-test on Titanic dataset Task: \n",
    "\n",
    "Compare fare paid by survivors vs. non-survivors. \n",
    "\n",
    "survivor_fare = titanic[titanic['Survived'] == 1]['Fare'].dropna() \n",
    "\n",
    "nonsurvivor_fare = titanic[titanic['Survived'] == 0]['Fare'].dropna()\n",
    "\n",
    "Are fares significantly different between survivors and non-survivors? (Answer: p < 0.05, so yes/no) "
   ]
  },
  {
   "cell_type": "code",
   "execution_count": 82,
   "id": "dbe18a8d",
   "metadata": {},
   "outputs": [],
   "source": [
    "survivor_fare = titanic[titanic['Survived'] == 1]['Fare'].dropna() \n",
    "\n",
    "nonsurvivor_fare = titanic[titanic['Survived'] == 0]['Fare'].dropna()"
   ]
  },
  {
   "cell_type": "code",
   "execution_count": 83,
   "id": "d54110ee",
   "metadata": {},
   "outputs": [
    {
     "name": "stdout",
     "output_type": "stream",
     "text": [
      "3.4478682983060884\n",
      "0.0006845156351814127\n",
      "The fares significantly different between survivors and non-survivors\n"
     ]
    }
   ],
   "source": [
    "t_stat, p_value = stats.ttest_ind(survivor_fare, nonsurvivor_fare, equal_var = False)\n",
    "\n",
    "print(t_stat)\n",
    "print(p_value)\n",
    "\n",
    "if p_value < 0.05:\n",
    "    print('The fares significantly different between survivors and non-survivors') # Alternative hypothesis\n",
    "else:\n",
    "    print('The fares are not significantly different between survivors and non-survivors') # Null hypothesis"
   ]
  },
  {
   "cell_type": "markdown",
   "id": "14efd670",
   "metadata": {},
   "source": [
    "# Perform one-way ANOVA"
   ]
  },
  {
   "cell_type": "markdown",
   "id": "0fe52a24",
   "metadata": {},
   "source": [
    "Question 16: One-way ANOVA on Iris dataset Task: Test if sepal length differs across Iris species.\n",
    "\n",
    "Is there a significant difference in sepal length across species? (Answer: p < 0.05, so yes/no)"
   ]
  },
  {
   "cell_type": "code",
   "execution_count": 84,
   "id": "3c62e336",
   "metadata": {},
   "outputs": [
    {
     "data": {
      "text/html": [
       "<div>\n",
       "<style scoped>\n",
       "    .dataframe tbody tr th:only-of-type {\n",
       "        vertical-align: middle;\n",
       "    }\n",
       "\n",
       "    .dataframe tbody tr th {\n",
       "        vertical-align: top;\n",
       "    }\n",
       "\n",
       "    .dataframe thead th {\n",
       "        text-align: right;\n",
       "    }\n",
       "</style>\n",
       "<table border=\"1\" class=\"dataframe\">\n",
       "  <thead>\n",
       "    <tr style=\"text-align: right;\">\n",
       "      <th></th>\n",
       "      <th>Id</th>\n",
       "      <th>SepalLengthCm</th>\n",
       "      <th>SepalWidthCm</th>\n",
       "      <th>PetalLengthCm</th>\n",
       "      <th>PetalWidthCm</th>\n",
       "      <th>Species</th>\n",
       "    </tr>\n",
       "  </thead>\n",
       "  <tbody>\n",
       "    <tr>\n",
       "      <th>0</th>\n",
       "      <td>1</td>\n",
       "      <td>5.1</td>\n",
       "      <td>3.5</td>\n",
       "      <td>1.4</td>\n",
       "      <td>0.2</td>\n",
       "      <td>Iris-setosa</td>\n",
       "    </tr>\n",
       "    <tr>\n",
       "      <th>1</th>\n",
       "      <td>2</td>\n",
       "      <td>4.9</td>\n",
       "      <td>3.0</td>\n",
       "      <td>1.4</td>\n",
       "      <td>0.2</td>\n",
       "      <td>Iris-setosa</td>\n",
       "    </tr>\n",
       "    <tr>\n",
       "      <th>2</th>\n",
       "      <td>3</td>\n",
       "      <td>4.7</td>\n",
       "      <td>3.2</td>\n",
       "      <td>1.3</td>\n",
       "      <td>0.2</td>\n",
       "      <td>Iris-setosa</td>\n",
       "    </tr>\n",
       "    <tr>\n",
       "      <th>3</th>\n",
       "      <td>4</td>\n",
       "      <td>4.6</td>\n",
       "      <td>3.1</td>\n",
       "      <td>1.5</td>\n",
       "      <td>0.2</td>\n",
       "      <td>Iris-setosa</td>\n",
       "    </tr>\n",
       "    <tr>\n",
       "      <th>4</th>\n",
       "      <td>5</td>\n",
       "      <td>5.0</td>\n",
       "      <td>3.6</td>\n",
       "      <td>1.4</td>\n",
       "      <td>0.2</td>\n",
       "      <td>Iris-setosa</td>\n",
       "    </tr>\n",
       "  </tbody>\n",
       "</table>\n",
       "</div>"
      ],
      "text/plain": [
       "   Id  SepalLengthCm  SepalWidthCm  PetalLengthCm  PetalWidthCm      Species\n",
       "0   1            5.1           3.5            1.4           0.2  Iris-setosa\n",
       "1   2            4.9           3.0            1.4           0.2  Iris-setosa\n",
       "2   3            4.7           3.2            1.3           0.2  Iris-setosa\n",
       "3   4            4.6           3.1            1.5           0.2  Iris-setosa\n",
       "4   5            5.0           3.6            1.4           0.2  Iris-setosa"
      ]
     },
     "execution_count": 84,
     "metadata": {},
     "output_type": "execute_result"
    }
   ],
   "source": [
    "iris.head()"
   ]
  },
  {
   "cell_type": "code",
   "execution_count": 85,
   "id": "a725fcd2",
   "metadata": {},
   "outputs": [
    {
     "name": "stdout",
     "output_type": "stream",
     "text": [
      "119.26450218450468\n",
      "1.6696691907693826e-31\n",
      "Reject the null hypothesis which is There is no significant difference in sepal length across species\n"
     ]
    }
   ],
   "source": [
    "# Identify if there is any significance difference between the sepal length\n",
    "\n",
    "alternative_hypothesis = 'There is a significant difference in sepal length across species'\n",
    "null_hypothesis = 'There is no significant difference in sepal length across species'\n",
    "\n",
    "# Then we get the sepal  length of all the three species\n",
    "\n",
    "setosa_length = iris[iris['Species'] == 'Iris-setosa']['SepalLengthCm']\n",
    "versicolor_length = iris[iris['Species'] == 'Iris-versicolor']['SepalLengthCm']\n",
    "virginica_length = iris[iris['Species'] == 'Iris-virginica']['SepalLengthCm']\n",
    "\n",
    "f_stat, p_value = f_oneway(setosa_length, versicolor_length, virginica_length)\n",
    "\n",
    "print(f_stat)\n",
    "print(p_value)\n",
    "\n",
    "if p_value < 0.05:\n",
    "    print(f'Reject the null hypothesis which is {null_hypothesis}')\n",
    "else:\n",
    "    print(f'We fail to reject the null hypothesis which is {null_hypothesis}')"
   ]
  },
  {
   "cell_type": "markdown",
   "id": "06c23d5b",
   "metadata": {},
   "source": [
    "# Perform chi-square test"
   ]
  },
  {
   "cell_type": "markdown",
   "id": "8408d3a5",
   "metadata": {},
   "source": [
    "Question 17: Chi-square test on Titanic dataset Task: \n",
    "\n",
    "Test if embarkation port (Embarked) is independent of passenger class. \n",
    "\n",
    "contingency_table = pd.crosstab(titanic['Embarked'], titanic['Pclass'])\n",
    "\n",
    "Is embarkation port independent of passenger class? (Answer: p < 0.05, so yes/no) "
   ]
  },
  {
   "cell_type": "code",
   "execution_count": 87,
   "id": "dc33d198",
   "metadata": {},
   "outputs": [
    {
     "name": "stdout",
     "output_type": "stream",
     "text": [
      "Pclass     1   2    3\n",
      "Embarked             \n",
      "C         56  11   35\n",
      "Q          1   4   41\n",
      "S         50  78  142\n"
     ]
    }
   ],
   "source": [
    "contingency_table = pd.crosstab(titanic['Embarked'], titanic['Pclass'])\n",
    "print(contingency_table)"
   ]
  },
  {
   "cell_type": "code",
   "execution_count": 88,
   "id": "99d2a509",
   "metadata": {},
   "outputs": [
    {
     "name": "stdout",
     "output_type": "stream",
     "text": [
      "chi2: 82.83186678873668\n",
      "p: 4.373384811850251e-17\n",
      "degrees of freedom: 4\n",
      "expected: [[ 26.11004785  22.6937799   53.19617225]\n",
      " [ 11.77511962  10.23444976  23.99043062]\n",
      " [ 69.11483254  60.07177033 140.81339713]]\n",
      "Reject the null hypothesis which is The embarkation port is not dependent of passenger class\n"
     ]
    }
   ],
   "source": [
    "chi2, p, dof, expected = chi2_contingency(contingency_table)\n",
    "print(f'chi2: {chi2}')\n",
    "print(f'p: {p}')\n",
    "print(f'degrees of freedom: {dof}')\n",
    "print(f'expected: {expected}')\n",
    "\n",
    "\n",
    "alternative_hypothesis = 'The embarkation port is dependent of passenger class'\n",
    "null_hypothesis = 'The embarkation port is not dependent of passenger class'\n",
    "\n",
    "if p < 0.05:\n",
    "    print(f'Reject the null hypothesis which is {null_hypothesis}')\n",
    "else:\n",
    "    print(f'We fail to reject the null hypothesis which is {null_hypothesis}')"
   ]
  },
  {
   "cell_type": "markdown",
   "id": "54d6157d",
   "metadata": {},
   "source": [
    "# Perform one-sample z-test"
   ]
  },
  {
   "cell_type": "markdown",
   "id": "1884cc9c",
   "metadata": {},
   "source": [
    "Question 18: One-sample z-test on Student Performance dataset Task: \n",
    "\n",
    "Test if the mean math score is equal to 65 (assume population std = 15).\n",
    "\n",
    "Is the mean math score significantly different from 65? (Answer: p < 0.05, so yes/no) "
   ]
  },
  {
   "cell_type": "code",
   "execution_count": 95,
   "id": "5de3b774",
   "metadata": {},
   "outputs": [],
   "source": [
    "Alternative_hypothesis = 'The mean math score is equal to 65'\n",
    "\n",
    "Null_hypothesis = 'The mean math score is different from 65'"
   ]
  },
  {
   "cell_type": "code",
   "execution_count": 90,
   "id": "b4697ebd",
   "metadata": {},
   "outputs": [
    {
     "data": {
      "text/html": [
       "<div>\n",
       "<style scoped>\n",
       "    .dataframe tbody tr th:only-of-type {\n",
       "        vertical-align: middle;\n",
       "    }\n",
       "\n",
       "    .dataframe tbody tr th {\n",
       "        vertical-align: top;\n",
       "    }\n",
       "\n",
       "    .dataframe thead th {\n",
       "        text-align: right;\n",
       "    }\n",
       "</style>\n",
       "<table border=\"1\" class=\"dataframe\">\n",
       "  <thead>\n",
       "    <tr style=\"text-align: right;\">\n",
       "      <th></th>\n",
       "      <th>gender</th>\n",
       "      <th>race/ethnicity</th>\n",
       "      <th>parental level of education</th>\n",
       "      <th>lunch</th>\n",
       "      <th>test preparation course</th>\n",
       "      <th>math score</th>\n",
       "      <th>reading score</th>\n",
       "      <th>writing score</th>\n",
       "    </tr>\n",
       "  </thead>\n",
       "  <tbody>\n",
       "    <tr>\n",
       "      <th>0</th>\n",
       "      <td>female</td>\n",
       "      <td>group B</td>\n",
       "      <td>bachelor's degree</td>\n",
       "      <td>standard</td>\n",
       "      <td>none</td>\n",
       "      <td>72</td>\n",
       "      <td>72</td>\n",
       "      <td>74</td>\n",
       "    </tr>\n",
       "    <tr>\n",
       "      <th>1</th>\n",
       "      <td>female</td>\n",
       "      <td>group C</td>\n",
       "      <td>some college</td>\n",
       "      <td>standard</td>\n",
       "      <td>completed</td>\n",
       "      <td>69</td>\n",
       "      <td>90</td>\n",
       "      <td>88</td>\n",
       "    </tr>\n",
       "    <tr>\n",
       "      <th>2</th>\n",
       "      <td>female</td>\n",
       "      <td>group B</td>\n",
       "      <td>master's degree</td>\n",
       "      <td>standard</td>\n",
       "      <td>none</td>\n",
       "      <td>90</td>\n",
       "      <td>95</td>\n",
       "      <td>93</td>\n",
       "    </tr>\n",
       "    <tr>\n",
       "      <th>3</th>\n",
       "      <td>male</td>\n",
       "      <td>group A</td>\n",
       "      <td>associate's degree</td>\n",
       "      <td>free/reduced</td>\n",
       "      <td>none</td>\n",
       "      <td>47</td>\n",
       "      <td>57</td>\n",
       "      <td>44</td>\n",
       "    </tr>\n",
       "    <tr>\n",
       "      <th>4</th>\n",
       "      <td>male</td>\n",
       "      <td>group C</td>\n",
       "      <td>some college</td>\n",
       "      <td>standard</td>\n",
       "      <td>none</td>\n",
       "      <td>76</td>\n",
       "      <td>78</td>\n",
       "      <td>75</td>\n",
       "    </tr>\n",
       "  </tbody>\n",
       "</table>\n",
       "</div>"
      ],
      "text/plain": [
       "   gender race/ethnicity parental level of education         lunch  \\\n",
       "0  female        group B           bachelor's degree      standard   \n",
       "1  female        group C                some college      standard   \n",
       "2  female        group B             master's degree      standard   \n",
       "3    male        group A          associate's degree  free/reduced   \n",
       "4    male        group C                some college      standard   \n",
       "\n",
       "  test preparation course  math score  reading score  writing score  \n",
       "0                    none          72             72             74  \n",
       "1               completed          69             90             88  \n",
       "2                    none          90             95             93  \n",
       "3                    none          47             57             44  \n",
       "4                    none          76             78             75  "
      ]
     },
     "execution_count": 90,
     "metadata": {},
     "output_type": "execute_result"
    }
   ],
   "source": [
    "students.head()"
   ]
  },
  {
   "cell_type": "code",
   "execution_count": 96,
   "id": "8f05406f",
   "metadata": {},
   "outputs": [
    {
     "name": "stdout",
     "output_type": "stream",
     "text": [
      "2.2958135812822404\n",
      "0.9891567287174134\n",
      "We Fail To Reject The Null Hypothesis!\n"
     ]
    }
   ],
   "source": [
    "math_scores = students['math score'].dropna()\n",
    "\n",
    "sigma = 15\n",
    "\n",
    "alpha = 0.05\n",
    "\n",
    "mu = 65\n",
    "\n",
    "n = len(math_scores)\n",
    "\n",
    "x_bar = math_scores.mean()\n",
    "\n",
    "z = (x_bar - mu)/(sigma/np.sqrt(n))\n",
    "p_value = norm.cdf(z) \n",
    "print(z)\n",
    "print(p_value)\n",
    "\n",
    "if p_value < alpha:\n",
    "    print(f'Reject The Null Hypothesis Which is: {Null_hypothesis}!')\n",
    "else:\n",
    "    print(f'We Fail To Reject The Null Hypothesis!')\n"
   ]
  },
  {
   "cell_type": "markdown",
   "id": "8f3afacd",
   "metadata": {},
   "source": [
    "# Perform paired t-test"
   ]
  },
  {
   "cell_type": "markdown",
   "id": "c438791e",
   "metadata": {},
   "source": [
    "Question 19: Paired t-test on Student Performance dataset Task: \n",
    "\n",
    "Test if reading score and writing score differ for the same students.\n",
    "\n",
    "Are reading and writing scores significantly different? (Answer: p < 0.05, so yes/no) "
   ]
  },
  {
   "cell_type": "code",
   "execution_count": 93,
   "id": "f18feb24",
   "metadata": {},
   "outputs": [
    {
     "data": {
      "text/html": [
       "<div>\n",
       "<style scoped>\n",
       "    .dataframe tbody tr th:only-of-type {\n",
       "        vertical-align: middle;\n",
       "    }\n",
       "\n",
       "    .dataframe tbody tr th {\n",
       "        vertical-align: top;\n",
       "    }\n",
       "\n",
       "    .dataframe thead th {\n",
       "        text-align: right;\n",
       "    }\n",
       "</style>\n",
       "<table border=\"1\" class=\"dataframe\">\n",
       "  <thead>\n",
       "    <tr style=\"text-align: right;\">\n",
       "      <th></th>\n",
       "      <th>gender</th>\n",
       "      <th>race/ethnicity</th>\n",
       "      <th>parental level of education</th>\n",
       "      <th>lunch</th>\n",
       "      <th>test preparation course</th>\n",
       "      <th>math score</th>\n",
       "      <th>reading score</th>\n",
       "      <th>writing score</th>\n",
       "    </tr>\n",
       "  </thead>\n",
       "  <tbody>\n",
       "    <tr>\n",
       "      <th>0</th>\n",
       "      <td>female</td>\n",
       "      <td>group B</td>\n",
       "      <td>bachelor's degree</td>\n",
       "      <td>standard</td>\n",
       "      <td>none</td>\n",
       "      <td>72</td>\n",
       "      <td>72</td>\n",
       "      <td>74</td>\n",
       "    </tr>\n",
       "    <tr>\n",
       "      <th>1</th>\n",
       "      <td>female</td>\n",
       "      <td>group C</td>\n",
       "      <td>some college</td>\n",
       "      <td>standard</td>\n",
       "      <td>completed</td>\n",
       "      <td>69</td>\n",
       "      <td>90</td>\n",
       "      <td>88</td>\n",
       "    </tr>\n",
       "    <tr>\n",
       "      <th>2</th>\n",
       "      <td>female</td>\n",
       "      <td>group B</td>\n",
       "      <td>master's degree</td>\n",
       "      <td>standard</td>\n",
       "      <td>none</td>\n",
       "      <td>90</td>\n",
       "      <td>95</td>\n",
       "      <td>93</td>\n",
       "    </tr>\n",
       "    <tr>\n",
       "      <th>3</th>\n",
       "      <td>male</td>\n",
       "      <td>group A</td>\n",
       "      <td>associate's degree</td>\n",
       "      <td>free/reduced</td>\n",
       "      <td>none</td>\n",
       "      <td>47</td>\n",
       "      <td>57</td>\n",
       "      <td>44</td>\n",
       "    </tr>\n",
       "    <tr>\n",
       "      <th>4</th>\n",
       "      <td>male</td>\n",
       "      <td>group C</td>\n",
       "      <td>some college</td>\n",
       "      <td>standard</td>\n",
       "      <td>none</td>\n",
       "      <td>76</td>\n",
       "      <td>78</td>\n",
       "      <td>75</td>\n",
       "    </tr>\n",
       "  </tbody>\n",
       "</table>\n",
       "</div>"
      ],
      "text/plain": [
       "   gender race/ethnicity parental level of education         lunch  \\\n",
       "0  female        group B           bachelor's degree      standard   \n",
       "1  female        group C                some college      standard   \n",
       "2  female        group B             master's degree      standard   \n",
       "3    male        group A          associate's degree  free/reduced   \n",
       "4    male        group C                some college      standard   \n",
       "\n",
       "  test preparation course  math score  reading score  writing score  \n",
       "0                    none          72             72             74  \n",
       "1               completed          69             90             88  \n",
       "2                    none          90             95             93  \n",
       "3                    none          47             57             44  \n",
       "4                    none          76             78             75  "
      ]
     },
     "execution_count": 93,
     "metadata": {},
     "output_type": "execute_result"
    }
   ],
   "source": [
    "students.head()"
   ]
  },
  {
   "cell_type": "code",
   "execution_count": 97,
   "id": "e07cb252",
   "metadata": {},
   "outputs": [],
   "source": [
    "Alternative_hypothesis = 'The mean scores are significantly different'\n",
    "\n",
    "Null_hypothesis = 'The mean scores are not significantly different'"
   ]
  },
  {
   "cell_type": "code",
   "execution_count": 101,
   "id": "9fce2abb",
   "metadata": {},
   "outputs": [
    {
     "name": "stdout",
     "output_type": "stream",
     "text": [
      "7.787445512854921\n",
      "1.7054750946105386e-14\n",
      "Reject The Null Hypothesis Which is: The mean scores are not significantly different!\n"
     ]
    }
   ],
   "source": [
    "# Extract the two score columns\n",
    "reading = students['reading score']\n",
    "writing = students['writing score']\n",
    "\n",
    "t_stat, p_value = ttest_rel(reading, writing)\n",
    "\n",
    "print(t_stat)\n",
    "print(p_value)\n",
    "\n",
    "alpha = 0.05\n",
    "if p_value < alpha:\n",
    "    print(f'Reject The Null Hypothesis Which is: {Null_hypothesis}!')\n",
    "else:\n",
    "    print(f'We Fail To Reject The Null Hypothesis!')"
   ]
  },
  {
   "cell_type": "markdown",
   "id": "c846511f",
   "metadata": {},
   "source": [
    "# Perform two-sample t-test"
   ]
  },
  {
   "cell_type": "markdown",
   "id": "90592044",
   "metadata": {},
   "source": [
    "Two-sample t-test on Iris dataset Task: Compare petal length of Iris-versicolor and Iris-virginica. \n",
    "\n",
    "versicolor_petal_length = iris[iris['Species'] == 'Iris-versicolor']['PetalLengthCm'] \n",
    "\n",
    "virginica_petal_length = iris[iris['Species'] == 'Iris-virginica']['PetalLengthCm']\n",
    "\n",
    "Are petal lengths significantly different? (Answer: p < 0.05, so yes/no) \n"
   ]
  },
  {
   "cell_type": "code",
   "execution_count": 104,
   "id": "c7c8f780",
   "metadata": {},
   "outputs": [],
   "source": [
    "versicolor_petal_length = iris[iris['Species'] == 'Iris-versicolor']['PetalLengthCm'] \n",
    "\n",
    "virginica_petal_length = iris[iris['Species'] == 'Iris-virginica']['PetalLengthCm']"
   ]
  },
  {
   "cell_type": "code",
   "execution_count": 105,
   "id": "9514d037",
   "metadata": {},
   "outputs": [
    {
     "name": "stdout",
     "output_type": "stream",
     "text": [
      "-12.603779441384985\n",
      "3.1788195478061495e-22\n",
      "The petal lengths significantly different\n"
     ]
    }
   ],
   "source": [
    "t_stat, p_value = stats.ttest_ind(versicolor_petal_length, virginica_petal_length, equal_var = True)\n",
    "\n",
    "print(t_stat)\n",
    "print(p_value)\n",
    "\n",
    "if p_value < 0.05:\n",
    "    print('The petal lengths significantly different') # Alternative hypothesis\n",
    "else:\n",
    "    print('The petal lengths are not significantly different') # Null hypothesis"
   ]
  },
  {
   "cell_type": "markdown",
   "id": "3116296e",
   "metadata": {},
   "source": [
    "# Perform one-way ANOVA"
   ]
  },
  {
   "cell_type": "markdown",
   "id": "d84f58af",
   "metadata": {},
   "source": [
    "Question 21: One-way ANOVA on Student Performance dataset Task: \n",
    "\n",
    "Test if reading scores differ across test preparation course status.\n",
    "\n",
    "Is there a significant difference in reading scores by test preparation?\n"
   ]
  },
  {
   "cell_type": "code",
   "execution_count": 106,
   "id": "a4071320",
   "metadata": {},
   "outputs": [
    {
     "data": {
      "text/html": [
       "<div>\n",
       "<style scoped>\n",
       "    .dataframe tbody tr th:only-of-type {\n",
       "        vertical-align: middle;\n",
       "    }\n",
       "\n",
       "    .dataframe tbody tr th {\n",
       "        vertical-align: top;\n",
       "    }\n",
       "\n",
       "    .dataframe thead th {\n",
       "        text-align: right;\n",
       "    }\n",
       "</style>\n",
       "<table border=\"1\" class=\"dataframe\">\n",
       "  <thead>\n",
       "    <tr style=\"text-align: right;\">\n",
       "      <th></th>\n",
       "      <th>gender</th>\n",
       "      <th>race/ethnicity</th>\n",
       "      <th>parental level of education</th>\n",
       "      <th>lunch</th>\n",
       "      <th>test preparation course</th>\n",
       "      <th>math score</th>\n",
       "      <th>reading score</th>\n",
       "      <th>writing score</th>\n",
       "    </tr>\n",
       "  </thead>\n",
       "  <tbody>\n",
       "    <tr>\n",
       "      <th>0</th>\n",
       "      <td>female</td>\n",
       "      <td>group B</td>\n",
       "      <td>bachelor's degree</td>\n",
       "      <td>standard</td>\n",
       "      <td>none</td>\n",
       "      <td>72</td>\n",
       "      <td>72</td>\n",
       "      <td>74</td>\n",
       "    </tr>\n",
       "    <tr>\n",
       "      <th>1</th>\n",
       "      <td>female</td>\n",
       "      <td>group C</td>\n",
       "      <td>some college</td>\n",
       "      <td>standard</td>\n",
       "      <td>completed</td>\n",
       "      <td>69</td>\n",
       "      <td>90</td>\n",
       "      <td>88</td>\n",
       "    </tr>\n",
       "    <tr>\n",
       "      <th>2</th>\n",
       "      <td>female</td>\n",
       "      <td>group B</td>\n",
       "      <td>master's degree</td>\n",
       "      <td>standard</td>\n",
       "      <td>none</td>\n",
       "      <td>90</td>\n",
       "      <td>95</td>\n",
       "      <td>93</td>\n",
       "    </tr>\n",
       "    <tr>\n",
       "      <th>3</th>\n",
       "      <td>male</td>\n",
       "      <td>group A</td>\n",
       "      <td>associate's degree</td>\n",
       "      <td>free/reduced</td>\n",
       "      <td>none</td>\n",
       "      <td>47</td>\n",
       "      <td>57</td>\n",
       "      <td>44</td>\n",
       "    </tr>\n",
       "    <tr>\n",
       "      <th>4</th>\n",
       "      <td>male</td>\n",
       "      <td>group C</td>\n",
       "      <td>some college</td>\n",
       "      <td>standard</td>\n",
       "      <td>none</td>\n",
       "      <td>76</td>\n",
       "      <td>78</td>\n",
       "      <td>75</td>\n",
       "    </tr>\n",
       "  </tbody>\n",
       "</table>\n",
       "</div>"
      ],
      "text/plain": [
       "   gender race/ethnicity parental level of education         lunch  \\\n",
       "0  female        group B           bachelor's degree      standard   \n",
       "1  female        group C                some college      standard   \n",
       "2  female        group B             master's degree      standard   \n",
       "3    male        group A          associate's degree  free/reduced   \n",
       "4    male        group C                some college      standard   \n",
       "\n",
       "  test preparation course  math score  reading score  writing score  \n",
       "0                    none          72             72             74  \n",
       "1               completed          69             90             88  \n",
       "2                    none          90             95             93  \n",
       "3                    none          47             57             44  \n",
       "4                    none          76             78             75  "
      ]
     },
     "execution_count": 106,
     "metadata": {},
     "output_type": "execute_result"
    }
   ],
   "source": [
    "students.head()"
   ]
  },
  {
   "cell_type": "code",
   "execution_count": 107,
   "id": "e961bb24",
   "metadata": {},
   "outputs": [
    {
     "data": {
      "text/plain": [
       "array(['none', 'completed'], dtype=object)"
      ]
     },
     "execution_count": 107,
     "metadata": {},
     "output_type": "execute_result"
    }
   ],
   "source": [
    "students['test preparation course'].unique()"
   ]
  },
  {
   "cell_type": "code",
   "execution_count": 109,
   "id": "f434a7af",
   "metadata": {},
   "outputs": [
    {
     "name": "stdout",
     "output_type": "stream",
     "text": [
      "61.96308687030073\n",
      "9.081783336895556e-15\n",
      "Reject the null hypothesis which is There is no significant difference in the reading scores by test preparation\n"
     ]
    }
   ],
   "source": [
    "# Identify if there is any significance difference in reading scores\n",
    "\n",
    "alternative_hypothesis = 'There is a significant difference in the reading scores by test preparation'\n",
    "null_hypothesis = 'There is no significant difference in the reading scores by test preparation'\n",
    "\n",
    "\n",
    "none_course = students[students['test preparation course'] == 'none']['reading score']\n",
    "completed_course = students[students['test preparation course'] == 'completed']['reading score']\n",
    "\n",
    "\n",
    "f_stat, p_value = f_oneway(none_course, completed_course)\n",
    "\n",
    "print(f_stat)\n",
    "print(p_value)\n",
    "\n",
    "if p_value < 0.05:\n",
    "    print(f'Reject the null hypothesis which is {null_hypothesis}')\n",
    "else:\n",
    "    print(f'We fail to reject the null hypothesis which is {null_hypothesis}')"
   ]
  },
  {
   "cell_type": "markdown",
   "id": "d120deb1",
   "metadata": {},
   "source": [
    "# Perform chi-square test"
   ]
  },
  {
   "cell_type": "markdown",
   "id": "87a59a69",
   "metadata": {},
   "source": [
    "Question 22: Chi-square test on Student Performance dataset Task: \n",
    "\n",
    "Test if parental level of education is independent of test preparation course. \n",
    "\n",
    "contingency_table = pd.crosstab(students['parental level of education'], students['test preparation course'])\n",
    "\n",
    "Is parental education independent of test preparation? (Answer: p < 0.05, so yes/no)"
   ]
  },
  {
   "cell_type": "code",
   "execution_count": 7,
   "id": "adb0ad70",
   "metadata": {},
   "outputs": [
    {
     "name": "stdout",
     "output_type": "stream",
     "text": [
      "test preparation course      completed  none\n",
      "parental level of education                 \n",
      "associate's degree                  82   140\n",
      "bachelor's degree                   46    72\n",
      "high school                         56   140\n",
      "master's degree                     20    39\n",
      "some college                        77   149\n",
      "some high school                    77   102\n"
     ]
    }
   ],
   "source": [
    "contingency_table = pd.crosstab(students['parental level of education'], students['test preparation course'])\n",
    "print(contingency_table)\n"
   ]
  },
  {
   "cell_type": "code",
   "execution_count": 8,
   "id": "39ecaf75",
   "metadata": {},
   "outputs": [
    {
     "name": "stdout",
     "output_type": "stream",
     "text": [
      "chi2: 9.54407054307069\n",
      "p: 0.08923388625809343\n",
      "degrees of freedom: 5\n",
      "expected: [[ 79.476 142.524]\n",
      " [ 42.244  75.756]\n",
      " [ 70.168 125.832]\n",
      " [ 21.122  37.878]\n",
      " [ 80.908 145.092]\n",
      " [ 64.082 114.918]]\n",
      "We fail to reject the null hypothesis which is The embarkation port is not independent of passenger class\n"
     ]
    }
   ],
   "source": [
    "chi2, p, dof, expected = chi2_contingency(contingency_table)\n",
    "print(f'chi2: {chi2}')\n",
    "print(f'p: {p}')\n",
    "print(f'degrees of freedom: {dof}')\n",
    "print(f'expected: {expected}')\n",
    "\n",
    "\n",
    "alternative_hypothesis = 'The parental education is independent of test preparation'\n",
    "null_hypothesis = 'The embarkation port is not independent of passenger class'\n",
    "\n",
    "if p < 0.05:\n",
    "    print(f'Reject the null hypothesis which is {null_hypothesis}')\n",
    "else:\n",
    "    print(f'We fail to reject the null hypothesis which is {null_hypothesis}')"
   ]
  },
  {
   "cell_type": "markdown",
   "id": "eee4ec6c",
   "metadata": {},
   "source": [
    "# Perform one-sample t-test"
   ]
  },
  {
   "cell_type": "markdown",
   "id": "02f5b571",
   "metadata": {},
   "source": [
    "Question 23: One-sample t-test on Titanic dataset Task: Test if the mean fare is equal to 30.\n",
    "\n",
    "Is the mean fare significantly different from 30? (Answer: p < 0.05, so yes/no)"
   ]
  },
  {
   "cell_type": "code",
   "execution_count": 9,
   "id": "1421fd6b",
   "metadata": {},
   "outputs": [],
   "source": [
    "alternative_hypothesis = 'The mean fare is 30'\n",
    "null_hypothesis = 'The mean fare is significantly different from 30'"
   ]
  },
  {
   "cell_type": "code",
   "execution_count": 10,
   "id": "8a016a8c",
   "metadata": {},
   "outputs": [
    {
     "data": {
      "text/html": [
       "<div>\n",
       "<style scoped>\n",
       "    .dataframe tbody tr th:only-of-type {\n",
       "        vertical-align: middle;\n",
       "    }\n",
       "\n",
       "    .dataframe tbody tr th {\n",
       "        vertical-align: top;\n",
       "    }\n",
       "\n",
       "    .dataframe thead th {\n",
       "        text-align: right;\n",
       "    }\n",
       "</style>\n",
       "<table border=\"1\" class=\"dataframe\">\n",
       "  <thead>\n",
       "    <tr style=\"text-align: right;\">\n",
       "      <th></th>\n",
       "      <th>PassengerId</th>\n",
       "      <th>Survived</th>\n",
       "      <th>Pclass</th>\n",
       "      <th>Name</th>\n",
       "      <th>Sex</th>\n",
       "      <th>Age</th>\n",
       "      <th>SibSp</th>\n",
       "      <th>Parch</th>\n",
       "      <th>Ticket</th>\n",
       "      <th>Fare</th>\n",
       "      <th>Cabin</th>\n",
       "      <th>Embarked</th>\n",
       "    </tr>\n",
       "  </thead>\n",
       "  <tbody>\n",
       "    <tr>\n",
       "      <th>0</th>\n",
       "      <td>892</td>\n",
       "      <td>0</td>\n",
       "      <td>3</td>\n",
       "      <td>Kelly, Mr. James</td>\n",
       "      <td>male</td>\n",
       "      <td>34.5</td>\n",
       "      <td>0</td>\n",
       "      <td>0</td>\n",
       "      <td>330911</td>\n",
       "      <td>7.8292</td>\n",
       "      <td>NaN</td>\n",
       "      <td>Q</td>\n",
       "    </tr>\n",
       "    <tr>\n",
       "      <th>1</th>\n",
       "      <td>893</td>\n",
       "      <td>1</td>\n",
       "      <td>3</td>\n",
       "      <td>Wilkes, Mrs. James (Ellen Needs)</td>\n",
       "      <td>female</td>\n",
       "      <td>47.0</td>\n",
       "      <td>1</td>\n",
       "      <td>0</td>\n",
       "      <td>363272</td>\n",
       "      <td>7.0000</td>\n",
       "      <td>NaN</td>\n",
       "      <td>S</td>\n",
       "    </tr>\n",
       "    <tr>\n",
       "      <th>2</th>\n",
       "      <td>894</td>\n",
       "      <td>0</td>\n",
       "      <td>2</td>\n",
       "      <td>Myles, Mr. Thomas Francis</td>\n",
       "      <td>male</td>\n",
       "      <td>62.0</td>\n",
       "      <td>0</td>\n",
       "      <td>0</td>\n",
       "      <td>240276</td>\n",
       "      <td>9.6875</td>\n",
       "      <td>NaN</td>\n",
       "      <td>Q</td>\n",
       "    </tr>\n",
       "    <tr>\n",
       "      <th>3</th>\n",
       "      <td>895</td>\n",
       "      <td>0</td>\n",
       "      <td>3</td>\n",
       "      <td>Wirz, Mr. Albert</td>\n",
       "      <td>male</td>\n",
       "      <td>27.0</td>\n",
       "      <td>0</td>\n",
       "      <td>0</td>\n",
       "      <td>315154</td>\n",
       "      <td>8.6625</td>\n",
       "      <td>NaN</td>\n",
       "      <td>S</td>\n",
       "    </tr>\n",
       "    <tr>\n",
       "      <th>4</th>\n",
       "      <td>896</td>\n",
       "      <td>1</td>\n",
       "      <td>3</td>\n",
       "      <td>Hirvonen, Mrs. Alexander (Helga E Lindqvist)</td>\n",
       "      <td>female</td>\n",
       "      <td>22.0</td>\n",
       "      <td>1</td>\n",
       "      <td>1</td>\n",
       "      <td>3101298</td>\n",
       "      <td>12.2875</td>\n",
       "      <td>NaN</td>\n",
       "      <td>S</td>\n",
       "    </tr>\n",
       "  </tbody>\n",
       "</table>\n",
       "</div>"
      ],
      "text/plain": [
       "   PassengerId  Survived  Pclass  \\\n",
       "0          892         0       3   \n",
       "1          893         1       3   \n",
       "2          894         0       2   \n",
       "3          895         0       3   \n",
       "4          896         1       3   \n",
       "\n",
       "                                           Name     Sex   Age  SibSp  Parch  \\\n",
       "0                              Kelly, Mr. James    male  34.5      0      0   \n",
       "1              Wilkes, Mrs. James (Ellen Needs)  female  47.0      1      0   \n",
       "2                     Myles, Mr. Thomas Francis    male  62.0      0      0   \n",
       "3                              Wirz, Mr. Albert    male  27.0      0      0   \n",
       "4  Hirvonen, Mrs. Alexander (Helga E Lindqvist)  female  22.0      1      1   \n",
       "\n",
       "    Ticket     Fare Cabin Embarked  \n",
       "0   330911   7.8292   NaN        Q  \n",
       "1   363272   7.0000   NaN        S  \n",
       "2   240276   9.6875   NaN        Q  \n",
       "3   315154   8.6625   NaN        S  \n",
       "4  3101298  12.2875   NaN        S  "
      ]
     },
     "execution_count": 10,
     "metadata": {},
     "output_type": "execute_result"
    }
   ],
   "source": [
    "titanic.head()"
   ]
  },
  {
   "cell_type": "code",
   "execution_count": 17,
   "id": "5c30ff9d",
   "metadata": {},
   "outputs": [],
   "source": [
    "fares = titanic['Fare'].dropna()"
   ]
  },
  {
   "cell_type": "code",
   "execution_count": 19,
   "id": "0a7c6b6f",
   "metadata": {},
   "outputs": [
    {
     "name": "stdout",
     "output_type": "stream",
     "text": [
      "T-statistic: 2.0553643800991495\n",
      "P-value: 0.04046758014596787\n",
      "Reject the null hypothesis which is The mean fare is significantly different from 30\n"
     ]
    }
   ],
   "source": [
    "sample_data = fares\n",
    "population_mean = 30\n",
    "alpha = 0.05\n",
    "t_stat, p_value = ttest_1samp(sample_data, population_mean)\n",
    "print(f\"T-statistic: {t_stat}\")\n",
    "print(f\"P-value: {p_value}\")\n",
    "\n",
    "\n",
    "if p_value < alpha:\n",
    "    print(f'Reject the null hypothesis which is {null_hypothesis}')\n",
    "else:\n",
    "    print(f'Fail to reject the null hypothesis which is {null_hypothesis}')"
   ]
  },
  {
   "cell_type": "markdown",
   "id": "510e107b",
   "metadata": {},
   "source": [
    "# Perform two-sample t-test"
   ]
  },
  {
   "cell_type": "markdown",
   "id": "055a8fb6",
   "metadata": {},
   "source": [
    "Question 24: Two-sample t-test on Student Performance dataset Task: \n",
    "\n",
    "Compare writing scores of students with vs. without test preparation. \n",
    "\n",
    "prep_writing = students[students['test preparation course'] == 'completed']['writing score'] \n",
    "\n",
    "noprep_writing = students[students['test preparation course'] == 'none']['writing score']\n",
    "\n",
    "Are writing scores significantly different by test preparation? (Answer: p < 0.05, so yes/no)"
   ]
  },
  {
   "cell_type": "code",
   "execution_count": 21,
   "id": "623067d2",
   "metadata": {},
   "outputs": [],
   "source": [
    "prep_writing = students[students['test preparation course'] == 'completed']['writing score'] \n",
    "\n",
    "noprep_writing = students[students['test preparation course'] == 'none']['writing score']"
   ]
  },
  {
   "cell_type": "code",
   "execution_count": 22,
   "id": "4d02bedc",
   "metadata": {},
   "outputs": [
    {
     "name": "stdout",
     "output_type": "stream",
     "text": [
      "10.409173436808748\n",
      "3.68529173524572e-24\n",
      "The writing scores are significantly different by test preparation\n"
     ]
    }
   ],
   "source": [
    "t_stat, p_value = stats.ttest_ind(prep_writing, noprep_writing, equal_var = True)\n",
    "\n",
    "print(t_stat)\n",
    "print(p_value)\n",
    "\n",
    "if p_value < 0.05:\n",
    "    print('The writing scores are significantly different by test preparation') # Alternative hypothesis\n",
    "else:\n",
    "    print('The writing scores are not significantly different by test preparation') # Null hypothesis"
   ]
  },
  {
   "cell_type": "markdown",
   "id": "c5fcab6c",
   "metadata": {},
   "source": [
    "# Perform one-way ANOVA"
   ]
  },
  {
   "cell_type": "markdown",
   "id": "c4989eec",
   "metadata": {},
   "source": [
    "Question 25: One-way ANOVA on Titanic dataset Task: \n",
    "\n",
    "Test if age differs across embarkation ports (Embarked).\n",
    "\n",
    "Is there a significant difference in age across embarkation ports? (Answer: p < 0.05, so yes/no) "
   ]
  },
  {
   "cell_type": "code",
   "execution_count": 23,
   "id": "c94cd7c6",
   "metadata": {},
   "outputs": [
    {
     "data": {
      "text/html": [
       "<div>\n",
       "<style scoped>\n",
       "    .dataframe tbody tr th:only-of-type {\n",
       "        vertical-align: middle;\n",
       "    }\n",
       "\n",
       "    .dataframe tbody tr th {\n",
       "        vertical-align: top;\n",
       "    }\n",
       "\n",
       "    .dataframe thead th {\n",
       "        text-align: right;\n",
       "    }\n",
       "</style>\n",
       "<table border=\"1\" class=\"dataframe\">\n",
       "  <thead>\n",
       "    <tr style=\"text-align: right;\">\n",
       "      <th></th>\n",
       "      <th>PassengerId</th>\n",
       "      <th>Survived</th>\n",
       "      <th>Pclass</th>\n",
       "      <th>Name</th>\n",
       "      <th>Sex</th>\n",
       "      <th>Age</th>\n",
       "      <th>SibSp</th>\n",
       "      <th>Parch</th>\n",
       "      <th>Ticket</th>\n",
       "      <th>Fare</th>\n",
       "      <th>Cabin</th>\n",
       "      <th>Embarked</th>\n",
       "    </tr>\n",
       "  </thead>\n",
       "  <tbody>\n",
       "    <tr>\n",
       "      <th>0</th>\n",
       "      <td>892</td>\n",
       "      <td>0</td>\n",
       "      <td>3</td>\n",
       "      <td>Kelly, Mr. James</td>\n",
       "      <td>male</td>\n",
       "      <td>34.5</td>\n",
       "      <td>0</td>\n",
       "      <td>0</td>\n",
       "      <td>330911</td>\n",
       "      <td>7.8292</td>\n",
       "      <td>NaN</td>\n",
       "      <td>Q</td>\n",
       "    </tr>\n",
       "    <tr>\n",
       "      <th>1</th>\n",
       "      <td>893</td>\n",
       "      <td>1</td>\n",
       "      <td>3</td>\n",
       "      <td>Wilkes, Mrs. James (Ellen Needs)</td>\n",
       "      <td>female</td>\n",
       "      <td>47.0</td>\n",
       "      <td>1</td>\n",
       "      <td>0</td>\n",
       "      <td>363272</td>\n",
       "      <td>7.0000</td>\n",
       "      <td>NaN</td>\n",
       "      <td>S</td>\n",
       "    </tr>\n",
       "    <tr>\n",
       "      <th>2</th>\n",
       "      <td>894</td>\n",
       "      <td>0</td>\n",
       "      <td>2</td>\n",
       "      <td>Myles, Mr. Thomas Francis</td>\n",
       "      <td>male</td>\n",
       "      <td>62.0</td>\n",
       "      <td>0</td>\n",
       "      <td>0</td>\n",
       "      <td>240276</td>\n",
       "      <td>9.6875</td>\n",
       "      <td>NaN</td>\n",
       "      <td>Q</td>\n",
       "    </tr>\n",
       "    <tr>\n",
       "      <th>3</th>\n",
       "      <td>895</td>\n",
       "      <td>0</td>\n",
       "      <td>3</td>\n",
       "      <td>Wirz, Mr. Albert</td>\n",
       "      <td>male</td>\n",
       "      <td>27.0</td>\n",
       "      <td>0</td>\n",
       "      <td>0</td>\n",
       "      <td>315154</td>\n",
       "      <td>8.6625</td>\n",
       "      <td>NaN</td>\n",
       "      <td>S</td>\n",
       "    </tr>\n",
       "    <tr>\n",
       "      <th>4</th>\n",
       "      <td>896</td>\n",
       "      <td>1</td>\n",
       "      <td>3</td>\n",
       "      <td>Hirvonen, Mrs. Alexander (Helga E Lindqvist)</td>\n",
       "      <td>female</td>\n",
       "      <td>22.0</td>\n",
       "      <td>1</td>\n",
       "      <td>1</td>\n",
       "      <td>3101298</td>\n",
       "      <td>12.2875</td>\n",
       "      <td>NaN</td>\n",
       "      <td>S</td>\n",
       "    </tr>\n",
       "  </tbody>\n",
       "</table>\n",
       "</div>"
      ],
      "text/plain": [
       "   PassengerId  Survived  Pclass  \\\n",
       "0          892         0       3   \n",
       "1          893         1       3   \n",
       "2          894         0       2   \n",
       "3          895         0       3   \n",
       "4          896         1       3   \n",
       "\n",
       "                                           Name     Sex   Age  SibSp  Parch  \\\n",
       "0                              Kelly, Mr. James    male  34.5      0      0   \n",
       "1              Wilkes, Mrs. James (Ellen Needs)  female  47.0      1      0   \n",
       "2                     Myles, Mr. Thomas Francis    male  62.0      0      0   \n",
       "3                              Wirz, Mr. Albert    male  27.0      0      0   \n",
       "4  Hirvonen, Mrs. Alexander (Helga E Lindqvist)  female  22.0      1      1   \n",
       "\n",
       "    Ticket     Fare Cabin Embarked  \n",
       "0   330911   7.8292   NaN        Q  \n",
       "1   363272   7.0000   NaN        S  \n",
       "2   240276   9.6875   NaN        Q  \n",
       "3   315154   8.6625   NaN        S  \n",
       "4  3101298  12.2875   NaN        S  "
      ]
     },
     "execution_count": 23,
     "metadata": {},
     "output_type": "execute_result"
    }
   ],
   "source": [
    "titanic.head()"
   ]
  },
  {
   "cell_type": "code",
   "execution_count": 24,
   "id": "2912ab3f",
   "metadata": {},
   "outputs": [
    {
     "data": {
      "text/plain": [
       "array(['Q', 'S', 'C'], dtype=object)"
      ]
     },
     "execution_count": 24,
     "metadata": {},
     "output_type": "execute_result"
    }
   ],
   "source": [
    "titanic['Embarked'].unique()"
   ]
  },
  {
   "cell_type": "code",
   "execution_count": 26,
   "id": "e7e2e87e",
   "metadata": {},
   "outputs": [],
   "source": [
    "Embarked_age = titanic['Embarked'].dropna()"
   ]
  },
  {
   "cell_type": "code",
   "execution_count": null,
   "id": "2796f45f",
   "metadata": {},
   "outputs": [
    {
     "name": "stdout",
     "output_type": "stream",
     "text": [
      "5.562959660036746\n",
      "0.004207167976872834\n",
      "Reject the null hypothesis which is There is no significant difference in age across embarkation ports\n"
     ]
    }
   ],
   "source": [
    "# Identify if there is any significance difference \n",
    "\n",
    "alternative_hypothesis = 'There is a significant difference in age across embarkation ports'\n",
    "null_hypothesis = 'There is no significant difference in age across embarkation ports'\n",
    "\n",
    "# Utilization of .notna\n",
    "\n",
    "# notna() is a method used to check for non-missing (non-NaN) values in a pandas Series or DataFrame\n",
    "\n",
    "# It returns:\n",
    "# True for values that are not null / not NaN\n",
    "\n",
    "# False for values that are NaN\n",
    "\n",
    "q_age = titanic[(titanic['Embarked'] == 'Q') & (titanic['Age'].notna())]['Age']\n",
    "s_age = titanic[(titanic['Embarked'] == 'S') & (titanic['Age'].notna())]['Age']\n",
    "c_age = titanic[(titanic['Embarked'] == 'C') & (titanic['Age'].notna())]['Age']\n",
    "\n",
    "\n",
    "\n",
    "f_stat, p_value = f_oneway(q_age, s_age, c_age )\n",
    "\n",
    "print(f_stat)\n",
    "print(p_value)\n",
    "\n",
    "if p_value < 0.05:\n",
    "    print(f'Reject the null hypothesis which is {null_hypothesis}')\n",
    "else:\n",
    "    print(f'We fail to reject the null hypothesis which is {null_hypothesis}')"
   ]
  },
  {
   "cell_type": "code",
   "execution_count": null,
   "id": "20f75c6a",
   "metadata": {},
   "outputs": [],
   "source": []
  }
 ],
 "metadata": {
  "kernelspec": {
   "display_name": "base",
   "language": "python",
   "name": "python3"
  },
  "language_info": {
   "codemirror_mode": {
    "name": "ipython",
    "version": 3
   },
   "file_extension": ".py",
   "mimetype": "text/x-python",
   "name": "python",
   "nbconvert_exporter": "python",
   "pygments_lexer": "ipython3",
   "version": "3.12.7"
  }
 },
 "nbformat": 4,
 "nbformat_minor": 5
}
