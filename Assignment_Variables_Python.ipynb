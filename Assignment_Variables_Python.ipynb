{
 "cells": [
  {
   "cell_type": "code",
   "execution_count": 1,
   "id": "9dcdb1b6",
   "metadata": {},
   "outputs": [],
   "source": [
    "# ASSIGNMENT Python Day 1\n",
    "# 1.\tCreate 10 variables. (Mix the data types in the variables eg string, integers, boolean, float etc).\n"
   ]
  },
  {
   "cell_type": "code",
   "execution_count": 10,
   "id": "9e79ad72",
   "metadata": {},
   "outputs": [
    {
     "name": "stdout",
     "output_type": "stream",
     "text": [
      "Hello John\n"
     ]
    }
   ],
   "source": [
    "# String Data Type\n",
    "Name = \"Hello John\"\n",
    "print(Name)"
   ]
  },
  {
   "cell_type": "code",
   "execution_count": 2,
   "id": "18865212",
   "metadata": {},
   "outputs": [
    {
     "name": "stdout",
     "output_type": "stream",
     "text": [
      "Lux_Dev_Python101\n"
     ]
    }
   ],
   "source": [
    "# String Data Type\n",
    "Cohort2 = \"Lux_Dev_Python101\"\n",
    "print(Cohort2)"
   ]
  },
  {
   "cell_type": "code",
   "execution_count": 7,
   "id": "cff61753",
   "metadata": {},
   "outputs": [
    {
     "data": {
      "text/plain": [
       "10"
      ]
     },
     "execution_count": 7,
     "metadata": {},
     "output_type": "execute_result"
    }
   ],
   "source": [
    "# Create 2 integer variables and add them.\n",
    "Num_1 = 4\n",
    "Num_2 = 6\n",
    "Nums = Num_1 + Num_2\n",
    "Nums"
   ]
  },
  {
   "cell_type": "code",
   "execution_count": 11,
   "id": "1ce49881",
   "metadata": {},
   "outputs": [
    {
     "name": "stdout",
     "output_type": "stream",
     "text": [
      "50\n"
     ]
    }
   ],
   "source": [
    "# Integer\n",
    "Age = 50\n",
    "print(Age)"
   ]
  },
  {
   "cell_type": "code",
   "execution_count": 9,
   "id": "b86a498e",
   "metadata": {},
   "outputs": [
    {
     "data": {
      "text/plain": [
       "30.5"
      ]
     },
     "execution_count": 9,
     "metadata": {},
     "output_type": "execute_result"
    }
   ],
   "source": [
    "# Float\n",
    "Avg_Age = 30.5\n",
    "Avg_Age"
   ]
  },
  {
   "cell_type": "code",
   "execution_count": 2,
   "id": "7990cbf7",
   "metadata": {},
   "outputs": [
    {
     "name": "stdout",
     "output_type": "stream",
     "text": [
      "True\n"
     ]
    }
   ],
   "source": [
    "# Boolean\n",
    "G = True\n",
    "print (G)"
   ]
  },
  {
   "cell_type": "code",
   "execution_count": 3,
   "id": "b262a3cb",
   "metadata": {},
   "outputs": [
    {
     "name": "stdout",
     "output_type": "stream",
     "text": [
      "False\n"
     ]
    }
   ],
   "source": [
    "# Boolean\n",
    "R = False\n",
    "print(R)"
   ]
  },
  {
   "cell_type": "code",
   "execution_count": 3,
   "id": "710aebd2",
   "metadata": {},
   "outputs": [
    {
     "name": "stdout",
     "output_type": "stream",
     "text": [
      "['Python', 'SQL', 'Excel']\n"
     ]
    }
   ],
   "source": [
    "# List\n",
    "Lux_Python = [\"Python\", \"SQL\", \"Excel\"]\n",
    "print (Lux_Python)"
   ]
  },
  {
   "cell_type": "code",
   "execution_count": 2,
   "id": "7bf35b96",
   "metadata": {},
   "outputs": [
    {
     "name": "stdout",
     "output_type": "stream",
     "text": [
      "('DBeaver', 'PostgreSQL', 'Anaconda', 'Power_BI')\n"
     ]
    }
   ],
   "source": [
    "#Tuple\n",
    "tup_1 = ('DBeaver','PostgreSQL', 'Anaconda', 'Power_BI')\n",
    "print(tup_1)"
   ]
  },
  {
   "cell_type": "code",
   "execution_count": 5,
   "id": "63a3e2be",
   "metadata": {},
   "outputs": [
    {
     "name": "stdout",
     "output_type": "stream",
     "text": [
      "range(0, 10)\n"
     ]
    }
   ],
   "source": [
    "# Range\n",
    "Digits = range(10)\n",
    "print(Digits)"
   ]
  },
  {
   "cell_type": "code",
   "execution_count": 4,
   "id": "acecf41b",
   "metadata": {},
   "outputs": [
    {
     "name": "stdout",
     "output_type": "stream",
     "text": [
      "{'Name': 'John', 'Age;': '60'}\n"
     ]
    }
   ],
   "source": [
    "# Dictionaries\n",
    "Dict_1 = {'Name': 'John', 'Age;': '60'}\n",
    "print (Dict_1)"
   ]
  },
  {
   "cell_type": "code",
   "execution_count": null,
   "id": "23c7240a",
   "metadata": {},
   "outputs": [],
   "source": []
  },
  {
   "cell_type": "code",
   "execution_count": null,
   "id": "e86928b7",
   "metadata": {},
   "outputs": [],
   "source": []
  },
  {
   "cell_type": "code",
   "execution_count": null,
   "id": "87f4ab97",
   "metadata": {},
   "outputs": [],
   "source": []
  },
  {
   "cell_type": "code",
   "execution_count": null,
   "id": "18f2a29e",
   "metadata": {},
   "outputs": [],
   "source": []
  }
 ],
 "metadata": {
  "kernelspec": {
   "display_name": "Python 3",
   "language": "python",
   "name": "python3"
  },
  "language_info": {
   "codemirror_mode": {
    "name": "ipython",
    "version": 3
   },
   "file_extension": ".py",
   "mimetype": "text/x-python",
   "name": "python",
   "nbconvert_exporter": "python",
   "pygments_lexer": "ipython3",
   "version": "3.12.5"
  }
 },
 "nbformat": 4,
 "nbformat_minor": 5
}
