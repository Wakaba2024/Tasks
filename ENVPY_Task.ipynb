{
 "cells": [
  {
   "cell_type": "code",
   "execution_count": null,
   "id": "d1020264",
   "metadata": {},
   "outputs": [],
   "source": [
    "import constants # imports a custom Python file named constants.py\n"
   ]
  },
  {
   "cell_type": "code",
   "execution_count": 6,
   "id": "ce526d91",
   "metadata": {},
   "outputs": [
    {
     "name": "stdout",
     "output_type": "stream",
     "text": [
      "luminous\n",
      "{'food': 'basic', 'shelter': 'basic', 'clothing': 'basic'}\n",
      "96091111\n",
      "3.14\n",
      "bright\n"
     ]
    }
   ],
   "source": [
    "print(constants.MOON)\n",
    "print(constants.NEEDS)\n",
    "print(constants.N_ID)\n",
    "print(constants.PI)\n",
    "print(constants.SUN)"
   ]
  },
  {
   "cell_type": "code",
   "execution_count": null,
   "id": "439e5337",
   "metadata": {},
   "outputs": [],
   "source": [
    "import os #  This helps import Python's built-in os module, which allows your program to interact with the operating system\n",
    "from dotenv import load_dotenv # This helps import the load_dotenv function from the python-dotenv package."
   ]
  },
  {
   "cell_type": "code",
   "execution_count": 10,
   "id": "99180f97",
   "metadata": {},
   "outputs": [
    {
     "data": {
      "text/plain": [
       "True"
      ]
     },
     "execution_count": 10,
     "metadata": {},
     "output_type": "execute_result"
    }
   ],
   "source": [
    "load_dotenv() # Loads variales from the .env file"
   ]
  },
  {
   "cell_type": "code",
   "execution_count": 12,
   "id": "2bfaedd8",
   "metadata": {},
   "outputs": [
    {
     "name": "stdout",
     "output_type": "stream",
     "text": [
      "data_analytics\n",
      "data_science\n",
      "21098717272\n"
     ]
    }
   ],
   "source": [
    "# Now we access variables from the .env vile\n",
    "DA = os.getenv(\"DA\")\n",
    "DS = os.getenv(\"DS\")\n",
    "IDNUM = os.getenv(\"IDNUM\")\n",
    "print(DA)\n",
    "print(DS)\n",
    "print(IDNUM)\n",
    "\n"
   ]
  },
  {
   "cell_type": "code",
   "execution_count": 16,
   "id": "e5bf65c8",
   "metadata": {},
   "outputs": [
    {
     "name": "stdout",
     "output_type": "stream",
     "text": [
      "131 KENOL\n",
      "['Farmwork', 'Garagework', 'Factorywork']\n",
      "{'food': 'basic', 'shelter': 'basic', 'clothing': 'basic'}\n"
     ]
    }
   ],
   "source": [
    "import main\n",
    "print(main.ADDRESS)\n",
    "print(main.JOB)\n",
    "print(main.NEEDS)"
   ]
  }
 ],
 "metadata": {
  "kernelspec": {
   "display_name": "base",
   "language": "python",
   "name": "python3"
  },
  "language_info": {
   "codemirror_mode": {
    "name": "ipython",
    "version": 3
   },
   "file_extension": ".py",
   "mimetype": "text/x-python",
   "name": "python",
   "nbconvert_exporter": "python",
   "pygments_lexer": "ipython3",
   "version": "3.12.7"
  }
 },
 "nbformat": 4,
 "nbformat_minor": 5
}
