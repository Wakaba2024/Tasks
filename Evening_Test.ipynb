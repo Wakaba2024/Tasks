{
 "cells": [
  {
   "cell_type": "markdown",
   "id": "922d81c7",
   "metadata": {},
   "source": [
    "## SECTION A: Core OOP Concepts (Classes, Objects)"
   ]
  },
  {
   "cell_type": "code",
   "execution_count": 43,
   "id": "41adb16c",
   "metadata": {},
   "outputs": [],
   "source": [
    "# Define a class Car with attributes brand, model, and year. \n",
    "# Include a method get_description() that returns a formatted string describing the car.\n",
    "class Car:\n",
    "    total_cars=0\n",
    "    def __init__(self,brand,model,year,features=None):\n",
    "        self.brand = brand\n",
    "        self.model = model\n",
    "        self.year = year\n",
    "        Car.total_cars += 1\n",
    "        if features is None:\n",
    "            self.features = []  # Start with an empty list if no features are provided\n",
    "        else:\n",
    "            self.features = features\n",
    "    \n",
    "    def get_description(self):\n",
    "        print(f' The {self.brand} {self.model} was manufactured in {self.year}')\n",
    "    def get_instance_count(self):\n",
    "        print(f'Total Number Of Cars Created Is {self.total_cars}')\n",
    "    def has_feature(self,feature):\n",
    "        return feature in self.features\n",
    "        \n",
    "        \n"
   ]
  },
  {
   "cell_type": "code",
   "execution_count": 44,
   "id": "a952b7f3",
   "metadata": {},
   "outputs": [
    {
     "name": "stdout",
     "output_type": "stream",
     "text": [
      " The Toyota Corolla was manufactured in 2020\n",
      " The Honda Civic was manufactured in 1973\n",
      " The Mercedes 300SL Gullwing was manufactured in 1954\n"
     ]
    }
   ],
   "source": [
    "# Create an instance of the Car class for a \"Toyota Corolla\" manufactured in 2020.\n",
    "car_1 = Car('Toyota','Corolla',2020,['glove box','heartbeat sensors','virtual drive'])\n",
    "car_2 = Car('Honda','Civic',1973)\n",
    "car_3 = Car('Mercedes','300SL Gullwing',1954)\n",
    "car_1.get_description()\n",
    "car_2.get_description()\n",
    "car_3.get_description()"
   ]
  },
  {
   "cell_type": "code",
   "execution_count": 45,
   "id": "bab89618",
   "metadata": {},
   "outputs": [
    {
     "name": "stdout",
     "output_type": "stream",
     "text": [
      "Total Number Of Cars Created Is 3\n"
     ]
    }
   ],
   "source": [
    "# Add a class variable to Car to keep track of the total number of cars created. \n",
    "# Display the count after creating three instances.\n",
    "car_1.get_instance_count()\n",
    "\n"
   ]
  },
  {
   "cell_type": "code",
   "execution_count": 47,
   "id": "d07a2b87",
   "metadata": {},
   "outputs": [
    {
     "name": "stdout",
     "output_type": "stream",
     "text": [
      "Has glove box? True\n",
      "Has virtual drive? True\n",
      "Has heartbeat sensors? False\n",
      "Has heartbeat sensors? False\n",
      "Has heartbeat sensors? True\n"
     ]
    }
   ],
   "source": [
    "# Modify the Car class to include a list of features. \n",
    "# Add a method has_feature(feature) that returns True if the feature exists.\n",
    "print(f\"Has glove box? {car_1.has_feature('glove box')}\")  \n",
    "print(f\"Has virtual drive? {car_1.has_feature('virtual drive')}\")\n",
    "print(f'Has heartbeat sensors? {car_2.has_feature('heartbeat sensors')}')\n",
    "print(f'Has heartbeat sensors? {car_3.has_feature('heartbeat sensors')}')\n",
    "print(f'Has heartbeat sensors? {car_1.has_feature('heartbeat sensors')}')"
   ]
  },
  {
   "cell_type": "code",
   "execution_count": 100,
   "metadata": {},
   "outputs": [],
   "source": [
    "# Create a class Garage with a list of Car objects and methods to:\n",
    "# add_car(car) – adds a car to the garage\n",
    "# get_cars_by_brand(brand) – returns all cars of a given brand\n",
    "class Garage:\n",
    "    def __init__(self,makes,models,year):\n",
    "        self.makes = makes\n",
    "        self.models = models\n",
    "        self.year = year\n",
    "    def add_car(self):\n",
    "        print(f'Added car {self.makes} {self.models} {self.year} to the Garage')\n",
    "    def get_cars_by_brand(self):\n",
    "        (f'This is a {self.makes} brand in the garage')"
   ]
  },
  {
   "cell_type": "code",
   "execution_count": 101,
   "id": "14c19187",
   "metadata": {},
   "outputs": [
    {
     "name": "stdout",
     "output_type": "stream",
     "text": [
      "Added car Audi Q5 2008 to the Garage\n",
      "Added car BMW X7 2010 to the Garage\n",
      "Added car Mazda CX-90 2025 to the Garage\n"
     ]
    }
   ],
   "source": [
    "car_list_1 = Garage('Audi','Q5',2008)\n",
    "car_list_2 = Garage('BMW','X7', 2010)\n",
    "car_list_3 = Garage('Mazda','CX-90',2025)\n",
    "car_list_1.add_car()\n",
    "car_list_2.add_car()\n",
    "car_list_3.add_car()"
   ]
  },
  {
   "cell_type": "code",
   "execution_count": 103,
   "id": "5f2e1827",
   "metadata": {},
   "outputs": [],
   "source": [
    "# # car_brand_1 = Garage('Audi')\n",
    "# # car_brand_2 = Garage('BMW')\n",
    "# # car_brand_3 = Garage('Mazda')\n",
    "# car_brand_1.get_cars_by_brand()\n",
    "# car_brand_2.get_cars_by_brand()\n",
    "car_list_2.get_cars_by_brand()\n",
    "car_list_2.get_cars_by_brand()\n",
    "car_list_3.get_cars_by_brand()"
   ]
  },
  {
   "cell_type": "markdown",
   "id": "2fc7f3be",
   "metadata": {},
   "source": [
    "## Inheritance "
   ]
  },
  {
   "cell_type": "code",
   "execution_count": 13,
   "id": "6fc246c1",
   "metadata": {},
   "outputs": [],
   "source": [
    "# Create a base class Animal with attributes name and species. \n",
    "# Add a method make_sound() that prints a generic animal sound.\n",
    "class Animal:\n",
    "    def __init__(self,name,species):\n",
    "        self.name = name\n",
    "        self.species = species\n",
    "    def make_sound(self):\n",
    "        print(f'{self.name} of the {self.species} Howls')"
   ]
  },
  {
   "cell_type": "code",
   "execution_count": null,
   "id": "ab42703c",
   "metadata": {},
   "outputs": [
    {
     "name": "stdout",
     "output_type": "stream",
     "text": [
      "Wolf of the Canis lupus Howls\n"
     ]
    }
   ],
   "source": [
    "animal = Animal('Wolf','Canis lupus')\n",
    "animal.make_sound()"
   ]
  },
  {
   "cell_type": "code",
   "execution_count": null,
   "id": "08037e1e",
   "metadata": {},
   "outputs": [],
   "source": [
    "# Create a subclass Dog that inherits from Animal. \n",
    "# Add an attribute breed and override make_sound() to print \"Woof!\".\n",
    "\n",
    "class Dog(Animal):\n",
    "    def __init__(self, name, species,breed):\n",
    "        super().__init__(name, species)\n",
    "        self.breed = breed\n",
    "    def make_sound(self):\n",
    "        super().make_sound()\n",
    "        print(f'{self.name} says woof!')\n",
    "        print(f'{self.name} of species {self.species} and breed {self.breed}')"
   ]
  },
  {
   "cell_type": "code",
   "execution_count": 19,
   "id": "55c136e8",
   "metadata": {},
   "outputs": [
    {
     "name": "stdout",
     "output_type": "stream",
     "text": [
      "German Warrior of the Working Line Howls\n",
      "German Warrior says woof!\n",
      "German Warrior of species Working Line and breed German Shepherd\n"
     ]
    }
   ],
   "source": [
    "dog = Dog('German Warrior','Working Line','German Shepherd')\n",
    "dog.make_sound()"
   ]
  },
  {
   "cell_type": "code",
   "execution_count": 42,
   "id": "4e06925d",
   "metadata": {},
   "outputs": [],
   "source": [
    "# Create a subclass Cat with an additional attribute color and a method purr() that prints \"Purr...\".\n",
    "class Cat(Animal):\n",
    "    def __init__(self,name,species,breed,color):\n",
    "        super().__init__(name,species)\n",
    "        self.breed = breed\n",
    "        self.color = color\n",
    "    def make_purr(self):\n",
    "        print(f'{self.name} Purr...')\n",
    "        print(f'{self.name} of species {self.species} and breed {self.breed} color {self.color}')"
   ]
  },
  {
   "cell_type": "code",
   "execution_count": 44,
   "id": "50a73839",
   "metadata": {},
   "outputs": [
    {
     "name": "stdout",
     "output_type": "stream",
     "text": [
      "Mickey Purr...\n",
      "Mickey of species Bengal and breed Hybrid color White\n"
     ]
    }
   ],
   "source": [
    "cat = Cat('Mickey','Bengal','Hybrid','White')\n",
    "cat.make_purr()"
   ]
  },
  {
   "cell_type": "code",
   "execution_count": 75,
   "id": "0d635040",
   "metadata": {},
   "outputs": [
    {
     "name": "stdout",
     "output_type": "stream",
     "text": [
      "Morris says meeow!\n",
      "Bosco says woof!\n",
      "Max says meeow!\n",
      "Leo says woof!\n",
      "Luna says meeow!\n",
      "Simba says woof!\n"
     ]
    }
   ],
   "source": [
    "# Create a list of Animal objects (some Dogs, some Cats). \n",
    "# Use a loop to call make_sound() for each.\n",
    "# Polymorphism\n",
    "class Animals:\n",
    "    def __init__(self, name, species):\n",
    "        self.name = name\n",
    "        self.species = species\n",
    "\n",
    "    def make_sound(self):\n",
    "        print(f'{self.name} makes a sound')\n",
    "\n",
    "class Cat(Animals):\n",
    "    def make_sound(self):\n",
    "        print(f'{self.name} says meeow!')\n",
    "\n",
    "class Dog(Animals):\n",
    "    def make_sound(self):\n",
    "        print(f'{self.name} says woof!')\n",
    "\n",
    "def count_species(animals):\n",
    "    species_count = {}\n",
    "    for animal in animals:\n",
    "        if animal.species in species_count:\n",
    "            species_count[animal.species] += 1\n",
    "        else:\n",
    "            species_count[animal.species] = 1\n",
    "    return species_count\n",
    "\n",
    "# Create a list of animal objects\n",
    "animals = [\n",
    "    Cat('Morris', 'Cat'),\n",
    "    Dog('Bosco', 'Dog'),\n",
    "    Cat('Max', 'Cat'),\n",
    "    Dog('Leo', 'Dog'),\n",
    "    Cat('Luna', 'Cat'),\n",
    "    Dog('Simba', 'Dog')\n",
    "]\n",
    "\n",
    "#animal sound\n",
    "for animal in animals:\n",
    "    animal.make_sound()\n",
    "\n",
    "\n"
   ]
  },
  {
   "cell_type": "code",
   "execution_count": 78,
   "id": "975c3df4",
   "metadata": {},
   "outputs": [
    {
     "name": "stdout",
     "output_type": "stream",
     "text": [
      "{'Cat': 3, 'Dog': 3}\n"
     ]
    }
   ],
   "source": [
    "# Write a function count_species(animals) that returns a dictionary with species as keys and counts as values.\n",
    "\n",
    "species_result = count_species(animals)\n",
    "print(species_result)\n",
    "\n",
    "\n",
    "\n",
    "\n"
   ]
  },
  {
   "cell_type": "markdown",
   "id": "321aa56b",
   "metadata": {},
   "source": [
    "## Data Structures inside Classes"
   ]
  },
  {
   "cell_type": "code",
   "execution_count": 49,
   "id": "53644cd0",
   "metadata": {},
   "outputs": [],
   "source": [
    "# Create a class Recipe with a dictionary to store ingredient: quantity. Add methods to:\n",
    "class Recipe:\n",
    "    def __init__(self, name, created_date):\n",
    "        self.name = name  # Name of the recipe\n",
    "        self.ingredients = {}  # Dictionary: ingredient -> quantity\n",
    "        # Add a tuple to Recipe to store the created_date in the form (day, month, year).\n",
    "\n",
    "        self.created_date = created_date  # Tuple: (day, month, year)\n",
    "# add_ingredient(name, qty)\n",
    "    def add_ingredient(self, name, qty):\n",
    "        if name in self.ingredients:\n",
    "            self.ingredients[name] += qty\n",
    "        else:\n",
    "            self.ingredients[name] = qty\n",
    "# total_ingredients()\n",
    "    def total_ingredients(self):\n",
    "        return len(self.ingredients)\n"
   ]
  },
  {
   "cell_type": "code",
   "execution_count": 50,
   "id": "664acac2",
   "metadata": {},
   "outputs": [
    {
     "data": {
      "text/plain": [
       "1"
      ]
     },
     "execution_count": 50,
     "metadata": {},
     "output_type": "execute_result"
    }
   ],
   "source": [
    "recipe_1 = Recipe('Potat Wedges', 20)\n",
    "recipe_1.add_ingredient('Potat Wedges', '100gms')\n",
    "recipe_1.total_ingredients()"
   ]
  },
  {
   "cell_type": "code",
   "execution_count": 43,
   "id": "2fd32640",
   "metadata": {},
   "outputs": [],
   "source": [
    "# Create a class Cookbook with a list of Recipe objects. \n",
    "# Add a method to list all ingredients across recipes.\n",
    "class Cookbook:\n",
    "    def __init__(self):\n",
    "        self.recipes = []  # List to hold Recipe objects\n",
    "        #  In Cookbook, maintain a set of all unique recipe names.\n",
    "        self.recipe_names = set() \n",
    "\n",
    "    def add_recipe(self, recipe):\n",
    "        self.recipes.append(recipe)\n",
    "        self.recipe_names.add(recipe.name)  # Maintain unique names\n",
    "\n",
    "    def list_all_ingredients(self):\n",
    "        all_ingredients = {}\n",
    "        for recipe in self.recipes:\n",
    "            for name, qty in recipe.ingredients.items():\n",
    "                if name in all_ingredients:\n",
    "                    all_ingredients[name] += qty\n",
    "                else:\n",
    "                    all_ingredients[name] = qty\n",
    "        return all_ingredients\n"
   ]
  },
  {
   "cell_type": "code",
   "execution_count": 44,
   "id": "792698da",
   "metadata": {},
   "outputs": [
    {
     "name": "stdout",
     "output_type": "stream",
     "text": [
      "Combined ingredients: {'Tomato': 5, 'Pasta': 1, 'Lettuce': 1}\n",
      "Unique recipe names: {'Pasta', 'Salad'}\n"
     ]
    }
   ],
   "source": [
    "# Create Recipes\n",
    "r1 = Recipe(\"Pasta\", (12, 6, 2025))\n",
    "r1.add_ingredient(\"Tomato\", 3)\n",
    "r1.add_ingredient(\"Pasta\", 1)\n",
    "\n",
    "r2 = Recipe(\"Salad\", (13, 6, 2025))\n",
    "r2.add_ingredient(\"Tomato\", 2)\n",
    "r2.add_ingredient(\"Lettuce\", 1)\n",
    "\n",
    "# Create Cookbook and add recipes\n",
    "cb = Cookbook()\n",
    "cb.add_recipe(r1)\n",
    "cb.add_recipe(r2)\n",
    "\n",
    "# Show all ingredients across recipes\n",
    "print(\"Combined ingredients:\", cb.list_all_ingredients())\n",
    "print(\"Unique recipe names:\", cb.recipe_names)\n",
    "\n"
   ]
  },
  {
   "cell_type": "markdown",
   "id": "19a2907e",
   "metadata": {},
   "source": [
    "##  Functions, Loops, and Logical Thinking"
   ]
  },
  {
   "cell_type": "code",
   "execution_count": 96,
   "id": "ac9bae93",
   "metadata": {},
   "outputs": [],
   "source": [
    "class Account:\n",
    "    def __init__(self,name,balance=0):\n",
    "        self.name = name\n",
    "        self.balance = balance\n",
    "    def check_balance(self):\n",
    "        print(f'{self.name} has {self.balance} balance')    \n",
    "    def deposit(self,amount):\n",
    "        self.balance += amount\n",
    "        print(f\"Deposited {amount}. New balance: {self.balance}\")\n",
    "    def withdraw(self, amount):\n",
    "        if amount > self.balance:\n",
    "            print(\"Insufficient funds\")\n",
    "        else:\n",
    "            self.balance -= amount\n",
    "            print(f\"Withdrew {amount}. New balance: {self.balance}\")"
   ]
  },
  {
   "cell_type": "code",
   "execution_count": 113,
   "id": "c42031c6",
   "metadata": {},
   "outputs": [
    {
     "name": "stdout",
     "output_type": "stream",
     "text": [
      "John has 0 balance\n"
     ]
    }
   ],
   "source": [
    "acc_1 = Account(\"John\",0)\n",
    "acc_1.check_balance()"
   ]
  },
  {
   "cell_type": "code",
   "execution_count": 112,
   "id": "106f8aff",
   "metadata": {},
   "outputs": [
    {
     "name": "stdout",
     "output_type": "stream",
     "text": [
      "Deposited 7000. New balance: 33800\n",
      "None\n",
      "Deposited 5000. New balance: 38800\n",
      "None\n",
      "Deposited 8000. New balance: 46800\n",
      "None\n",
      "Deposited 10000. New balance: 56800\n",
      "None\n",
      "Withdrew 2200. New balance: 54600\n",
      "None\n",
      "Withdrew 1000. New balance: 53600\n",
      "None\n",
      "Final balance for acc_1: 53600\n"
     ]
    }
   ],
   "source": [
    "#  Simulate 4 deposits and 2 withdrawals using a loop and print the final balance.\n",
    "operations = [\n",
    "    ('deposit', 7000),\n",
    "    ('deposit', 5000),\n",
    "    ('deposit', 8000),\n",
    "    ('deposit', 10000),\n",
    "    ('withdraw', 2200),\n",
    "    ('withdraw', 1000)\n",
    "]\n",
    "for ops, amount in operations:\n",
    "    if ops == \"deposit\":\n",
    "        result = acc_1.deposit(amount)\n",
    "    elif ops == \"withdraw\":\n",
    "        result = acc_1.withdraw(amount)\n",
    "    else:\n",
    "        result = \"Unknown operation\"\n",
    "    print(result)\n",
    "\n",
    "print(f\"Final balance for acc_1: {acc_1.balance}\")\n",
    "\n",
    "\n",
    "\n"
   ]
  },
  {
   "cell_type": "code",
   "execution_count": 31,
   "id": "d82b37cc",
   "metadata": {},
   "outputs": [],
   "source": [
    "# Create a class Inventory with a dictionary items (item_name: quantity). Include methods to:\n",
    "\n",
    "class Inventory:\n",
    "    def __init__(self):\n",
    "        self.items = {}\n",
    "\n",
    "# add_item(name, qty)\n",
    "    def add_item(self,name,qty):\n",
    "        if name in self.items:\n",
    "            self.items[name] += qty\n",
    "        else:\n",
    "            self.items[name] = qty\n",
    "\n",
    "# remove_item(name)\n",
    "\n",
    "    def remove_item(self,name):\n",
    "        if name in self.items:\n",
    "            del self.items[name]\n",
    "# get_total_items()\n",
    "\n",
    "    def get_total_items(self):\n",
    "        return sum(self.items.values())\n",
    "\n",
    "#  Add a method to Inventory to print all items and their quantities using a loop.\n",
    "    def print_inventory(self):\n",
    "        for name, qty in self.items.items():\n",
    "            print(f'{name}: {qty}')\n",
    "# Items with quantity > 5\n",
    "         \n",
    "    def high_stock_items(self):\n",
    "        return [name for name, qty in self.items.items() if qty > 5]\n",
    "# Method to check if item exists in inventory\n",
    "\n",
    "    def has_item(self, item_name):\n",
    "        return item_name in self.items\n"
   ]
  },
  {
   "cell_type": "code",
   "execution_count": 32,
   "id": "00ba1254",
   "metadata": {},
   "outputs": [
    {
     "name": "stdout",
     "output_type": "stream",
     "text": [
      "Gearbox: 2\n",
      "Bushes: 10\n",
      "Brake Pads: 20\n"
     ]
    },
    {
     "data": {
      "text/plain": [
       "32"
      ]
     },
     "execution_count": 32,
     "metadata": {},
     "output_type": "execute_result"
    }
   ],
   "source": [
    "invent_1 = Inventory()\n",
    "invent_1.add_item('Gearbox',2)\n",
    "invent_1.add_item('Bushes', 10)\n",
    "invent_1.add_item('Brake Pads', 20)\n",
    "invent_1.print_inventory()\n",
    "invent_1.get_total_items()"
   ]
  },
  {
   "cell_type": "code",
   "execution_count": 28,
   "id": "43474ad0",
   "metadata": {},
   "outputs": [
    {
     "data": {
      "text/plain": [
       "['Bushes', 'Brake Pads']"
      ]
     },
     "execution_count": 28,
     "metadata": {},
     "output_type": "execute_result"
    }
   ],
   "source": [
    "# Items with quantity > 5\n",
    "invent_1.high_stock_items()"
   ]
  },
  {
   "cell_type": "code",
   "execution_count": 33,
   "id": "75d94066",
   "metadata": {},
   "outputs": [
    {
     "data": {
      "text/plain": [
       "True"
      ]
     },
     "execution_count": 33,
     "metadata": {},
     "output_type": "execute_result"
    }
   ],
   "source": [
    "# Method to check if item exists in inventory\n",
    "invent_1.has_item('Bushes')"
   ]
  },
  {
   "cell_type": "code",
   "execution_count": 19,
   "id": "b40b68aa",
   "metadata": {},
   "outputs": [],
   "source": [
    "#  In a class Club, create a method register_members(*names) using variable-length arguments to add member names to a list.\n",
    "class Club:\n",
    "    def __init__(self):\n",
    "        self.members = []\n",
    "    \n",
    "    def register_members(self, *names):\n",
    "        for name in names:\n",
    "            self.members.append(name)\n",
    "\n",
    "# In Club, write a method that returns the shortest member name using a loop.\n",
    "\n",
    "    def get_shortest_member(self):\n",
    "        if not self.members:\n",
    "            return None\n",
    "        shortest = self.members[0]\n",
    "        for name in self.members:\n",
    "            if len(name) < len(shortest):\n",
    "                shortest = name\n",
    "        return shortest\n",
    "    def names_starting_with_A(self):\n",
    "        return [name for name in self.members if name.startswith('A')]\n"
   ]
  },
  {
   "cell_type": "code",
   "execution_count": null,
   "id": "ec9793a9",
   "metadata": {},
   "outputs": [
    {
     "data": {
      "text/plain": [
       "'Cas'"
      ]
     },
     "execution_count": 22,
     "metadata": {},
     "output_type": "execute_result"
    }
   ],
   "source": [
    "clb_1 = Club()\n",
    "clb_1.register_members('Bruno','Garnacho','Onana','Cas','Yoro','Amad')\n",
    "# Shortest Name\n",
    "clb_1.get_shortest_member()\n"
   ]
  },
  {
   "cell_type": "code",
   "execution_count": 24,
   "id": "97ecf289",
   "metadata": {},
   "outputs": [
    {
     "data": {
      "text/plain": [
       "['Amad']"
      ]
     },
     "execution_count": 24,
     "metadata": {},
     "output_type": "execute_result"
    }
   ],
   "source": [
    "# Starting With A\n",
    "clb_1.names_starting_with_A()"
   ]
  },
  {
   "cell_type": "code",
   "execution_count": 36,
   "id": "2401694e",
   "metadata": {},
   "outputs": [],
   "source": [
    "class Math:\n",
    "    def counting(self):\n",
    "        x = 5\n",
    "        while x > 0:\n",
    "            print(x)\n",
    "            x -=1"
   ]
  },
  {
   "cell_type": "code",
   "execution_count": 37,
   "id": "e06bb534",
   "metadata": {},
   "outputs": [
    {
     "name": "stdout",
     "output_type": "stream",
     "text": [
      "5\n",
      "4\n",
      "3\n",
      "2\n",
      "1\n"
     ]
    }
   ],
   "source": [
    "xx = Math()\n",
    "xx.counting()"
   ]
  }
 ],
 "metadata": {
  "kernelspec": {
   "display_name": "base",
   "language": "python",
   "name": "python3"
  },
  "language_info": {
   "codemirror_mode": {
    "name": "ipython",
    "version": 3
   },
   "file_extension": ".py",
   "mimetype": "text/x-python",
   "name": "python",
   "nbconvert_exporter": "python",
   "pygments_lexer": "ipython3",
   "version": "3.12.7"
  }
 },
 "nbformat": 4,
 "nbformat_minor": 5
}
